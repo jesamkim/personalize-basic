{
 "cells": [
  {
   "cell_type": "markdown",
   "id": "891d75e2-2c90-44ef-b708-b9162fabae16",
   "metadata": {},
   "source": [
    "# [Module 2] 데이터 전처리\n",
    "\n",
    "이 워크샵은 기본 커널을 conda_python3를 사용합니다."
   ]
  },
  {
   "cell_type": "markdown",
   "id": "c59c1ccf-6574-4863-931a-98d470ab62d5",
   "metadata": {},
   "source": [
    "## 0. 환경 설정"
   ]
  },
  {
   "cell_type": "markdown",
   "id": "f0295843-c56f-4200-a63b-1907e41b508e",
   "metadata": {},
   "source": [
    "#### Library Import \n",
    "\n",
    "파이썬에는 광범위한 라이브러리 모음이 포함되어 있으며, 본 LAB을 위해서 핵심 Data Scientist용 Tool 인 boto3 (AWS SDK) 및 Pandas/Numpy와 같은 라이브러리를 가져와야 합니다."
   ]
  },
  {
   "cell_type": "code",
   "execution_count": null,
   "id": "58c7ef04-021d-480c-9cbe-459977c05721",
   "metadata": {},
   "outputs": [],
   "source": [
    "import boto3\n",
    "import json\n",
    "import numpy as np\n",
    "import pandas as pd\n",
    "import time\n",
    "from datetime import datetime\n",
    "\n",
    "import matplotlib.pyplot as plt"
   ]
  },
  {
   "cell_type": "markdown",
   "id": "24a90ea8-8d84-44ce-8b46-b505e26825dd",
   "metadata": {},
   "source": [
    "변수 로딩"
   ]
  },
  {
   "cell_type": "code",
   "execution_count": null,
   "id": "79c4b2d6-e2b5-417c-b227-467257701d8e",
   "metadata": {},
   "outputs": [],
   "source": [
    "%store -r"
   ]
  },
  {
   "cell_type": "markdown",
   "id": "1a5bb185-ebc3-465f-912c-3e1acbe6e722",
   "metadata": {},
   "source": [
    "## Personalize에서 학습 수행을 위한 데이터 제한 요건\n",
    "\n",
    "Personalize에서 학습을 수행하기 위해서는 다음과 [official limits](https://docs.aws.amazon.com/personalize/latest/dg/limits.html)같은 데이터 요구사항을 맞추어야 합니다. \n",
    "\n",
    "* 최소 25명 고유 사용자 \n",
    "* 최소 100개 고유 아이템 \n",
    "* 사용자 당 2개 이상의 Interaction(예. 구매,평가 등) 기록\n",
    "\n",
    "\n",
    "하지만 일반적으로 다음과 같은 데이터가 준비 되어 있는것이 좋습니다. \n",
    "\n",
    "* 최소 50명 고유 사용자 \n",
    "* 최소 100개 고유 아이템 \n",
    "* 사용자 당 24 이상의 Interaction(예. 구매,평가 등) 기록\n",
    "\n",
    "#### 중요 하이퍼 파라미터\n",
    "**min_user_history_length_percentile, max_user_history_length_percentile**\n",
    "- 일반적으로 가지고 있는 interaction의 데이타 셋이 사용자당 interaction의 수가 다릅니다.\n",
    "즉 1개인 사용자도 많고, 엄청 많은 사용자도 있습니다. **이런 양 극단의 사용자를 제외하고 학습 데이타로 사용하는 것이 더욱 의미있는 추천을 받을 수 있습니다.** 아래 예 및 링크를 참고하시기 바랍니다.\n",
    "    - For example, setting min_user_history_length_percentile to 0.05 and max_user_history_length_percentile to 0.95 includes all users except those with history lengths at the bottom or top 5%.\n",
    "\n",
    "\n",
    "- User-Personalization Recipe\n",
    "    - https://docs.aws.amazon.com/personalize/latest/dg/native-recipe-new-item-USER_PERSONALIZATION.html"
   ]
  },
  {
   "cell_type": "markdown",
   "id": "5a8b244d-8b5d-4bd2-bd6c-70e67661c463",
   "metadata": {},
   "source": [
    "## 1. 데이터 탐색"
   ]
  },
  {
   "cell_type": "markdown",
   "id": "b8fb0542-55c3-4ad2-91b7-03fc34f6be73",
   "metadata": {},
   "source": [
    "### 1.1 전체 Interaction 분포\n",
    "\n",
    "Interaction 분포는 아래와 같습니다. <br>"
   ]
  },
  {
   "cell_type": "code",
   "execution_count": null,
   "id": "ff075e39-db1b-452e-8578-c1cbb0ef7603",
   "metadata": {},
   "outputs": [],
   "source": [
    "pd.options.display.max_rows = 10\n",
    "user_activity_counts = its.groupby(\"USER_ID\").count().loc[:,[\"EVENT_TYPE\"]].rename(columns={\"EVENT_TYPE\":\"INTERACTION_COUNTS\"})\n",
    "user_activity_counts.describe()"
   ]
  },
  {
   "cell_type": "markdown",
   "id": "c558d28d-f7f9-4324-868c-55f7f634bea9",
   "metadata": {},
   "source": [
    "### 1.2 Interaction 숫자 당 유저 수"
   ]
  },
  {
   "cell_type": "code",
   "execution_count": null,
   "id": "cade0f61-d423-4d32-8260-070d37193baa",
   "metadata": {},
   "outputs": [],
   "source": [
    "user_interaction_counts=user_activity_counts.reset_index()\n",
    "activities = user_interaction_counts.groupby('INTERACTION_COUNTS').count()\n",
    "activities.columns=['NUM_USERS']\n",
    "activities"
   ]
  },
  {
   "cell_type": "markdown",
   "id": "2e3c8f2d-2871-41f7-a411-93d0606932ab",
   "metadata": {},
   "source": [
    "### 1.3 전체 Interactions 횟수 분포 확인"
   ]
  },
  {
   "cell_type": "code",
   "execution_count": null,
   "id": "05d088ba-fa6c-4b7a-927f-33c58de57572",
   "metadata": {},
   "outputs": [],
   "source": [
    "num_interactions = 260\n",
    "activities.loc[:num_interactions,:].plot(kind='bar', figsize=(15,5), ylim=(0,100))\n",
    "plt.title(\"activities users group\")\n",
    "\n",
    "plt.show()"
   ]
  },
  {
   "cell_type": "markdown",
   "id": "269c9abf-2c0c-464e-a629-b0b13d2917ee",
   "metadata": {},
   "source": [
    "일부 분포 (100번)까지의 분포를 확인 합니다."
   ]
  },
  {
   "cell_type": "code",
   "execution_count": null,
   "id": "ccc8d1c9-b7d3-4d0d-8c90-9b86b6552e7e",
   "metadata": {},
   "outputs": [],
   "source": [
    "num_interactions = 100\n",
    "activities.loc[:num_interactions,:].plot(kind='bar', figsize=(15,5), ylim=(0,100))\n",
    "plt.title(\"activities users group\")\n",
    "\n",
    "plt.show()"
   ]
  },
  {
   "cell_type": "markdown",
   "id": "bd42f593-7f24-4c5c-ad4b-f5027ac916ed",
   "metadata": {},
   "source": [
    "## 2. 데이터 필드 선택 및 변형\n",
    "\n",
    "아래와 같은 순서로 데이터 필드를 선택하고 준비를 합니다.\n",
    "- 필수적인 데이타를 중심으로 선택\n",
    "- 퍼스널라이즈에서 요구하는 컬럼 이름으로 수정\n",
    "- 선택된 데이터 필드의 타입을 적당하게 변경\n",
    "\n",
    "### 참고\n",
    "- ECOMMERCE datasets and schemas\n",
    "    - https://docs.aws.amazon.com/personalize/latest/dg/ECOMMERCE-datasets-and-schemas.html"
   ]
  },
  {
   "cell_type": "markdown",
   "id": "09e350dd-6391-477a-abc4-e3208bd47c4c",
   "metadata": {},
   "source": [
    "### 2.1 Items 컬럼 조정"
   ]
  },
  {
   "cell_type": "code",
   "execution_count": null,
   "id": "4865dbc2-f589-46c4-99a9-a8a291446df4",
   "metadata": {},
   "outputs": [],
   "source": [
    "items.columns"
   ]
  },
  {
   "cell_type": "code",
   "execution_count": null,
   "id": "4c26330d-d479-4ffe-81f6-c903829ce9bc",
   "metadata": {},
   "outputs": [],
   "source": [
    "def item_data_selection(df, cols):\n",
    "    ldf = df[cols]\n",
    "    ldf = ldf.rename(columns={'id':'ITEM_ID',\n",
    "                              'name' : 'NAME',\n",
    "                              'category' :'CATEGORY_L1',\n",
    "                              'style' : 'STYLE',\n",
    "                              'description' : 'PRODUCT_DESCRIPTION',\n",
    "                              'price' : 'PRICE',\n",
    "                              \n",
    "                             })\n",
    "    \n",
    "    return ldf\n",
    "\n",
    "\n",
    "item_cols = ['id', 'name', 'category', 'style', 'description','price']\n",
    "\n",
    "\n",
    "items_df = item_data_selection(items, item_cols)    \n",
    "\n",
    "\n",
    "items_df.head()"
   ]
  },
  {
   "cell_type": "markdown",
   "id": "3b128cc3-d229-4362-9e6d-9dd5647d92dc",
   "metadata": {},
   "source": [
    "### 2.2 Users 컬럼 변경"
   ]
  },
  {
   "cell_type": "code",
   "execution_count": null,
   "id": "50570f98-3a9f-4f64-9cf5-79e88fbf7fd8",
   "metadata": {
    "tags": []
   },
   "outputs": [],
   "source": [
    "users.columns"
   ]
  },
  {
   "cell_type": "code",
   "execution_count": null,
   "id": "b44f133c-557c-4daf-aa51-8404d2745811",
   "metadata": {
    "tags": []
   },
   "outputs": [],
   "source": [
    "def user_data_selection(df, cols):\n",
    "    ldf = df[cols]\n",
    "    ldf = ldf.rename(columns={'id':'USER_ID',\n",
    "                              'username' : 'USER_NAME',\n",
    "                              'age' :'AGE',\n",
    "                              'gender' : 'GENDER',                              \n",
    "                             })\n",
    "    \n",
    "    return ldf\n",
    "\n",
    "user_cols = ['id', 'username', 'age', 'gender']\n",
    "\n",
    "\n",
    "users_df = user_data_selection(users, user_cols)    \n",
    "users_df.head()"
   ]
  },
  {
   "cell_type": "markdown",
   "id": "01865888-b91b-47d1-ab7f-41d5827ad1bf",
   "metadata": {},
   "source": [
    "### 2.3 Users 데이터 타입 변경"
   ]
  },
  {
   "cell_type": "code",
   "execution_count": null,
   "id": "ece1516d-0c75-4ee4-82ae-88bd73855f7d",
   "metadata": {},
   "outputs": [],
   "source": [
    "users_df.info()"
   ]
  },
  {
   "cell_type": "code",
   "execution_count": null,
   "id": "6ff8e8d8-d3d8-4ffc-b427-346245676fd9",
   "metadata": {},
   "outputs": [],
   "source": [
    "def change_data_type(df, col, target_type):\n",
    "    ldf = df.copy()\n",
    "    ldf[col] = ldf[col].astype(target_type)\n",
    "    \n",
    "    return ldf"
   ]
  },
  {
   "cell_type": "code",
   "execution_count": null,
   "id": "7a1db98e-3561-442d-9041-fe4afb15fdba",
   "metadata": {},
   "outputs": [],
   "source": [
    "users_df = change_data_type(users_df, col='USER_ID', target_type='object')\n",
    "users_df.info()"
   ]
  },
  {
   "cell_type": "markdown",
   "id": "c0048535-d0e0-443d-b33d-28ad52231545",
   "metadata": {},
   "source": [
    "### 2.4 Interactions 컬럼 변경"
   ]
  },
  {
   "cell_type": "code",
   "execution_count": null,
   "id": "4dccd9cd-3f5c-4323-a179-213b499bf52b",
   "metadata": {},
   "outputs": [],
   "source": [
    "its.columns"
   ]
  },
  {
   "cell_type": "code",
   "execution_count": null,
   "id": "6d37a361-66d9-4e16-bfc7-d37a9ca74672",
   "metadata": {},
   "outputs": [],
   "source": [
    "def interactions_data_selection(df, cols):\n",
    "    ldf = df[cols]\n",
    "    ldf = ldf.rename(columns={'id':'USER_ID',\n",
    "                              'username' : 'USER_NAME',\n",
    "                              'age' :'AGE',\n",
    "                              'gender' : 'GENDER',                              \n",
    "                             })\n",
    "    \n",
    "    return ldf\n",
    "\n",
    "interactions_cols = ['ITEM_ID', 'USER_ID', 'EVENT_TYPE', 'TIMESTAMP']\n",
    "\n",
    "\n",
    "full_interactions_df = interactions_data_selection(its, interactions_cols)    \n",
    "full_interactions_df.head()"
   ]
  },
  {
   "cell_type": "markdown",
   "id": "6b21b704-1568-41ab-9337-74edf8541c93",
   "metadata": {},
   "source": [
    "### 2.5 Interactions의 EVENT_TYPE의 두가지 선택\n",
    "\n",
    "- 우리는 여기서 \"ProductViewed\" , \"OrderCompleted\" 를 선택하고 각각 이름을 \"View\" , \"Purchase\" 로 바꿉니다."
   ]
  },
  {
   "cell_type": "code",
   "execution_count": null,
   "id": "62427622-3527-4043-9038-5aabc61d742f",
   "metadata": {},
   "outputs": [],
   "source": [
    "full_interactions_df.EVENT_TYPE.value_counts()"
   ]
  },
  {
   "cell_type": "code",
   "execution_count": null,
   "id": "a11595c3-b9d1-4e04-bef0-3c76650b1423",
   "metadata": {},
   "outputs": [],
   "source": [
    "def filter_interactions_data(df, kinds_event_type):\n",
    "    ldf = df[df['EVENT_TYPE'].isin(kinds_event_type)]\n",
    "    ldf['EVENT_TYPE'] = ldf['EVENT_TYPE'].replace(['ProductViewed'],'View')    \n",
    "    ldf['EVENT_TYPE'] = ldf['EVENT_TYPE'].replace(['OrderCompleted'],'Purchase')        \n",
    "    \n",
    "    return ldf\n",
    "\n",
    "select_event_types = ['ProductViewed','OrderCompleted']\n",
    "interactions_df = filter_interactions_data(full_interactions_df, select_event_types)\n",
    "interactions_df"
   ]
  },
  {
   "cell_type": "markdown",
   "id": "076605b0-dd2e-44ac-9d45-44350f11a875",
   "metadata": {},
   "source": [
    "### 2.6 Interaction 데이터 타입 변경"
   ]
  },
  {
   "cell_type": "code",
   "execution_count": null,
   "id": "adc90ce0-5a55-4709-8532-26adf8c20719",
   "metadata": {},
   "outputs": [],
   "source": [
    "interactions_df.info()"
   ]
  },
  {
   "cell_type": "code",
   "execution_count": null,
   "id": "8069bcc1-d168-4c98-953e-7a43c9d4ea01",
   "metadata": {},
   "outputs": [],
   "source": [
    "interactions_df = change_data_type(interactions_df, col='USER_ID', target_type='object')\n",
    "interactions_df.info()"
   ]
  },
  {
   "cell_type": "code",
   "execution_count": null,
   "id": "432e6617-eddd-4bd5-9c3e-e28d990e9ead",
   "metadata": {},
   "outputs": [],
   "source": [
    "interactions_df"
   ]
  },
  {
   "cell_type": "markdown",
   "id": "8e157f31-f3fd-4746-bceb-4ff69dd542b9",
   "metadata": {
    "tags": []
   },
   "source": [
    "## 3. 변수 저장\n",
    "\n",
    "다음 노트북에서 활용할 변수를 저장 합니다."
   ]
  },
  {
   "cell_type": "code",
   "execution_count": null,
   "id": "dfb8faf0-bfa2-44dc-8409-682eee344a8d",
   "metadata": {},
   "outputs": [],
   "source": [
    "%store interactions_df\n",
    "%store users_df\n",
    "%store items_df"
   ]
  },
  {
   "cell_type": "code",
   "execution_count": null,
   "id": "d393484b-93e1-47b9-a6fd-9edc2ef0afd0",
   "metadata": {},
   "outputs": [],
   "source": []
  }
 ],
 "metadata": {
  "kernelspec": {
   "display_name": "conda_python3",
   "language": "python",
   "name": "conda_python3"
  },
  "language_info": {
   "codemirror_mode": {
    "name": "ipython",
    "version": 3
   },
   "file_extension": ".py",
   "mimetype": "text/x-python",
   "name": "python",
   "nbconvert_exporter": "python",
   "pygments_lexer": "ipython3",
   "version": "3.10.8"
  }
 },
 "nbformat": 4,
 "nbformat_minor": 5
}
