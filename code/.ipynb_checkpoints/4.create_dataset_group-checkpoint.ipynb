{
 "cells": [
  {
   "cell_type": "markdown",
   "id": "65c0f24b-8a60-4a0a-ba27-b1c7d54b209e",
   "metadata": {},
   "source": [
    "# [Module 4] Create Dataset Group\n",
    "\n",
    "\n",
    "* IAM Role 생성 및 권한 할당\n",
    "    - Personalize 서비스가 사용할 역할을 생성 및 권한을 할당 합니다.\n",
    "* 데이타 세트 그룹 생성 (DatasetGroup)    \n",
    "* 데이타 스키마 생성\n",
    "* 데이타 세트 생성 (Dataset)\n",
    "* 데이타 Import (S3 --> Personalize 서비스로 다운로드)\n",
    "\n",
    "---"
   ]
  },
  {
   "cell_type": "markdown",
   "id": "eebf84e0-6429-4f37-bd35-d4bcd910c875",
   "metadata": {
    "tags": []
   },
   "source": [
    "# 0. 환경 설정"
   ]
  },
  {
   "cell_type": "code",
   "execution_count": 1,
   "id": "bb652a88-47d5-4956-ba29-b9a11f66963e",
   "metadata": {
    "tags": []
   },
   "outputs": [],
   "source": [
    "# Imports\n",
    "import boto3\n",
    "import json\n",
    "import numpy as np\n",
    "import pandas as pd\n",
    "import time\n",
    "from datetime import datetime\n",
    "\n",
    "import matplotlib.pyplot as plt\n",
    "from matplotlib.dates import DateFormatter\n",
    "import matplotlib.dates as mdate\n",
    "from botocore.exceptions import ClientError"
   ]
  },
  {
   "cell_type": "markdown",
   "id": "60c45a19-5926-44ad-84f7-654f82ae68ea",
   "metadata": {},
   "source": [
    "다음으로 여러분의 환경이 Amazon Personalize와 성공적으로 통신할 수 있는지 확인해야 합니다."
   ]
  },
  {
   "cell_type": "code",
   "execution_count": 2,
   "id": "b211f1c3-5e1d-4370-bddd-0aba90eb0b4b",
   "metadata": {},
   "outputs": [],
   "source": [
    "# Configure the SDK to Personalize:\n",
    "personalize = boto3.client('personalize')"
   ]
  },
  {
   "cell_type": "markdown",
   "id": "8f3f3987-7572-4aa5-a46e-185e03c497e7",
   "metadata": {},
   "source": [
    "생성할 오브젝트의 끝에 임의의 숫자를 부여하기 위해 suffix 정의"
   ]
  },
  {
   "cell_type": "code",
   "execution_count": 3,
   "id": "fee04788-c0dc-41bf-98e1-bc76527e5bf6",
   "metadata": {},
   "outputs": [],
   "source": [
    "suffix = str(np.random.uniform())[4:9]"
   ]
  },
  {
   "cell_type": "code",
   "execution_count": 4,
   "id": "7872a166-b1de-4a80-afb1-9e9ed5de56d2",
   "metadata": {},
   "outputs": [],
   "source": [
    "%store -r"
   ]
  },
  {
   "cell_type": "markdown",
   "id": "09ae1283-9535-4982-82df-0e960ea63aeb",
   "metadata": {
    "tags": []
   },
   "source": [
    "## 1. Personalize Service의 S3 접근 권한\n",
    "Personalize Service 는 해당 S3 버킷에 접근하기 위해서 권한"
   ]
  },
  {
   "cell_type": "code",
   "execution_count": 5,
   "id": "c1c59dc5-af11-49b7-b6d6-82a6ed886c4c",
   "metadata": {},
   "outputs": [
    {
     "data": {
      "text/plain": [
       "{'ResponseMetadata': {'RequestId': 'YGX9ZG3CJF9P8ZKP',\n",
       "  'HostId': '0g+edvYmN0eeJV7rgxOsZI47GAMBCFDpagVhwpQAolCObnerTkKb/k43k81oFoirHzOuRFZDHGk=',\n",
       "  'HTTPStatusCode': 204,\n",
       "  'HTTPHeaders': {'x-amz-id-2': '0g+edvYmN0eeJV7rgxOsZI47GAMBCFDpagVhwpQAolCObnerTkKb/k43k81oFoirHzOuRFZDHGk=',\n",
       "   'x-amz-request-id': 'YGX9ZG3CJF9P8ZKP',\n",
       "   'date': 'Mon, 10 Apr 2023 13:24:39 GMT',\n",
       "   'server': 'AmazonS3'},\n",
       "  'RetryAttempts': 0}}"
      ]
     },
     "execution_count": 5,
     "metadata": {},
     "output_type": "execute_result"
    }
   ],
   "source": [
    "s3 = boto3.client(\"s3\")\n",
    "\n",
    "policy = {\n",
    "    \"Version\": \"2012-10-17\",\n",
    "    \"Id\": \"PersonalizeS3BucketAccessPolicy\",\n",
    "    \"Statement\": [\n",
    "        {\n",
    "            \"Sid\": \"PersonalizeS3BucketAccessPolicy\",\n",
    "            \"Effect\": \"Allow\",\n",
    "            \"Principal\": {\n",
    "                \"Service\": \"personalize.amazonaws.com\"\n",
    "            },\n",
    "            \"Action\": [\n",
    "                \"s3:*\",\n",
    "            ],\n",
    "            \"Resource\": [\n",
    "                \"arn:aws:s3:::{}\".format(bucket),\n",
    "                \"arn:aws:s3:::{}/*\".format(bucket)\n",
    "            ]\n",
    "        }\n",
    "    ]\n",
    "}\n",
    "\n",
    "s3.put_bucket_policy(Bucket=bucket, Policy=json.dumps(policy))"
   ]
  },
  {
   "cell_type": "markdown",
   "id": "3e3e9fb5-ce51-4f32-9105-d09f88fce542",
   "metadata": {},
   "source": [
    "## Personalize IAM Role 생성\n",
    "\n",
    "또한, Amazon Personalize는 특정 작업들을 실행할 권한을 갖기 위해, AWS에서 역할을 맡을 수 있는 기능이 필요합니다. \n",
    "예를 들어 Personalize 는 S3에 접근을 해야 합니다. 그래서 이를 위한 역할이 필요하고, 이 역할은 S3 접근 권한이 필요 합니다."
   ]
  },
  {
   "cell_type": "code",
   "execution_count": 6,
   "id": "e5c0a807-9b88-4f3e-87e9-23885d02c639",
   "metadata": {},
   "outputs": [
    {
     "data": {
      "text/plain": [
       "'06863'"
      ]
     },
     "execution_count": 6,
     "metadata": {},
     "output_type": "execute_result"
    }
   ],
   "source": [
    "suffix"
   ]
  },
  {
   "cell_type": "code",
   "execution_count": 7,
   "id": "c62e9b63-f57f-4fab-ad62-e2529f274cd4",
   "metadata": {},
   "outputs": [
    {
     "name": "stdout",
     "output_type": "stream",
     "text": [
      "arn:aws:iam::376278017302:role/PersonalizeRoleDemo06863\n"
     ]
    }
   ],
   "source": [
    "iam = boto3.client(\"iam\")\n",
    "\n",
    "# Personalize 서비스가 이용할 role을 만들기 위한 assume_role_policy 생성\n",
    "role_name = \"PersonalizeRoleDemo\" + suffix\n",
    "assume_role_policy_document = {\n",
    "    \"Version\": \"2012-10-17\",\n",
    "    \"Statement\": [\n",
    "        {\n",
    "          \"Effect\": \"Allow\",\n",
    "          \"Principal\": {\n",
    "            \"Service\": \"personalize.amazonaws.com\"\n",
    "          },\n",
    "          \"Action\": \"sts:AssumeRole\"\n",
    "        }\n",
    "    ]\n",
    "}\n",
    "\n",
    "# Personalize 서비스가 이용할 role 생성\n",
    "create_role_response = iam.create_role(\n",
    "    RoleName = role_name,\n",
    "    AssumeRolePolicyDocument = json.dumps(assume_role_policy_document)\n",
    ")\n",
    "\n",
    "# 위에서 생성한 role에 AmazonPersonalizeFullAccess 권한 추가\n",
    "policy_arn = \"arn:aws:iam::aws:policy/service-role/AmazonPersonalizeFullAccess\"\n",
    "iam.attach_role_policy(\n",
    "    RoleName = role_name,\n",
    "    PolicyArn = policy_arn\n",
    ")\n",
    "\n",
    "# 위에서 생성한 role에 AmazonS3FullAccess 권한 추가\n",
    "iam.attach_role_policy(\n",
    "    RoleName=role_name,    \n",
    "    PolicyArn='arn:aws:iam::aws:policy/AmazonS3FullAccess'\n",
    ")\n",
    "time.sleep(20) # wait for 20 seconds to allow IAM role policy attachment to propagate\n",
    "\n",
    "role_arn = create_role_response[\"Role\"][\"Arn\"]\n",
    "print(role_arn)"
   ]
  },
  {
   "cell_type": "markdown",
   "id": "6fae673b-0709-49e8-b3cc-f256183e9d88",
   "metadata": {},
   "source": [
    "## 2. 데이터 세트 그룹 생성 및 대기\n",
    "\n",
    "Personalize에서 가장 큰 단위는 **데이터 세트 그룹(Dataset Group)** 이며, 이렇게 하면 데이터, 이벤트 추적기(event tracker), 솔루션(solution) 및 캠페인(campaign)이 분리됩니다. 공통의 데이터 수집을 공유하는 것들을 그룹화합니다. 원하는 경우 아래 그룹명을 자유롭게 변경해 주세요."
   ]
  },
  {
   "cell_type": "markdown",
   "id": "b227d7f9-b22e-4337-930d-ffd3a8c64c6f",
   "metadata": {},
   "source": [
    "### 2.1 데이터 세트 그룹 생성"
   ]
  },
  {
   "cell_type": "code",
   "execution_count": 8,
   "id": "95de19a4-62bb-4246-90c4-b2172c22df6b",
   "metadata": {},
   "outputs": [],
   "source": [
    "create_base_dataset_group_response = personalize.create_dataset_group(\n",
    "    name = \"RetailDemo-dataset-group\"\n",
    ")"
   ]
  },
  {
   "cell_type": "code",
   "execution_count": 9,
   "id": "5b623511-4f32-43b3-9089-64ea4a2e89e6",
   "metadata": {},
   "outputs": [
    {
     "data": {
      "text/plain": [
       "'arn:aws:personalize:us-east-1:376278017302:dataset-group/RetailDemo-dataset-group'"
      ]
     },
     "execution_count": 9,
     "metadata": {},
     "output_type": "execute_result"
    }
   ],
   "source": [
    "base_dataset_group_arn = create_base_dataset_group_response['datasetGroupArn']\n",
    "base_dataset_group_arn"
   ]
  },
  {
   "cell_type": "markdown",
   "id": "d9cb33df-aa0e-4385-89d0-261903879e07",
   "metadata": {},
   "source": [
    "#### 데이터 세트 그룹이 활성화 상태가 될 때까지 대기\n",
    "\n",
    "아래의 모든 항목에서 Dataset Group을 사용하려면 활성화(active)가 되어야 합니다. 아래 셀을 실행하고 DatasetGroup: ACTIVE로 변경될 때까지 기다려 주세요."
   ]
  },
  {
   "cell_type": "code",
   "execution_count": 10,
   "id": "3c0baaba-342a-43aa-ad07-8eec83d51ec5",
   "metadata": {},
   "outputs": [
    {
     "name": "stdout",
     "output_type": "stream",
     "text": [
      "DatasetGroup: CREATE PENDING\n",
      "DatasetGroup: ACTIVE\n"
     ]
    }
   ],
   "source": [
    "max_time = time.time() + 3*60*60 # 3 hours\n",
    "while time.time() < max_time:\n",
    "    describe_dataset_group_response = personalize.describe_dataset_group(\n",
    "        datasetGroupArn = base_dataset_group_arn\n",
    "    )\n",
    "    status = describe_dataset_group_response[\"datasetGroup\"][\"status\"]\n",
    "    print(\"DatasetGroup: {}\".format(status))\n",
    "    \n",
    "    if status == \"ACTIVE\" or status == \"CREATE FAILED\":\n",
    "        break\n",
    "        \n",
    "    time.sleep(15)"
   ]
  },
  {
   "cell_type": "markdown",
   "id": "6318f023-5c70-4f8c-a5fa-59012273bd08",
   "metadata": {},
   "source": [
    "## 3. 스키마 생성\n",
    "\n",
    "Personalize가 데이터를 이해하는 방법의 핵심 구성 요소는 아래 정의 된 스키마(schema)에서 비롯됩니다. 이 설정은 CSV 파일을 통해 제공된 데이터를 요약하는 방법을 Personalize 서비스에 알려줍니다. 열(column)과 유형(type)은 위에서 만든 파일의 내용과 일치합니다."
   ]
  },
  {
   "cell_type": "markdown",
   "id": "8bd2d222-90ac-4e42-b674-2e687ad9c688",
   "metadata": {},
   "source": [
    "### 3.1 인터렉션"
   ]
  },
  {
   "cell_type": "code",
   "execution_count": 11,
   "id": "9aa13efd-58f4-43ec-a9b3-f49748e4c31f",
   "metadata": {},
   "outputs": [
    {
     "name": "stdout",
     "output_type": "stream",
     "text": [
      "{\n",
      "  \"schemaArn\": \"arn:aws:personalize:us-east-1:376278017302:schema/RetailDemo-interaction-schema\",\n",
      "  \"ResponseMetadata\": {\n",
      "    \"RequestId\": \"28fab30a-02cd-4a3b-a635-0f7e05479653\",\n",
      "    \"HTTPStatusCode\": 200,\n",
      "    \"HTTPHeaders\": {\n",
      "      \"date\": \"Mon, 10 Apr 2023 13:27:40 GMT\",\n",
      "      \"content-type\": \"application/x-amz-json-1.1\",\n",
      "      \"content-length\": \"95\",\n",
      "      \"connection\": \"keep-alive\",\n",
      "      \"x-amzn-requestid\": \"28fab30a-02cd-4a3b-a635-0f7e05479653\"\n",
      "    },\n",
      "    \"RetryAttempts\": 0\n",
      "  }\n",
      "}\n"
     ]
    }
   ],
   "source": [
    "interaction_schema_name=\"RetailDemo-interaction-schema\"\n",
    "\n",
    "schema = {\n",
    "    \"type\": \"record\",\n",
    "    \"name\": \"Interactions\",\n",
    "    \"namespace\": \"com.amazonaws.personalize.schema\",\n",
    "    \"fields\": [\n",
    "        {\n",
    "            \"name\": \"USER_ID\",\n",
    "            \"type\": \"string\"\n",
    "        },\n",
    "        {\n",
    "            \"name\": \"ITEM_ID\",\n",
    "            \"type\": \"string\"\n",
    "        },\n",
    "        { \n",
    "            \"name\": \"EVENT_TYPE\",\n",
    "            \"type\": \"string\"\n",
    "        },        \n",
    "        {\n",
    "            \"name\": \"TIMESTAMP\",\n",
    "            \"type\": \"long\"\n",
    "        }\n",
    "    ],\n",
    "    \"version\": \"1.0\"\n",
    "}\n",
    "\n",
    "\n",
    "create_schema_response = personalize.create_schema( \n",
    "    name = interaction_schema_name,\n",
    "    schema = json.dumps(schema)\n",
    ")\n",
    "\n",
    "interaction_schema_arn = create_schema_response['schemaArn']\n",
    "print(json.dumps(create_schema_response, indent=2))"
   ]
  },
  {
   "cell_type": "markdown",
   "id": "a87a884e-9108-4a82-b53a-77dfed708df8",
   "metadata": {},
   "source": [
    "### 3.2 아이템"
   ]
  },
  {
   "cell_type": "code",
   "execution_count": 12,
   "id": "e5698bf3-5c0e-4eca-8d63-22e43e30456c",
   "metadata": {},
   "outputs": [
    {
     "name": "stdout",
     "output_type": "stream",
     "text": [
      "{\n",
      "  \"schemaArn\": \"arn:aws:personalize:us-east-1:376278017302:schema/RetailDemo-base-item-schema\",\n",
      "  \"ResponseMetadata\": {\n",
      "    \"RequestId\": \"050daf8d-4159-4314-8460-1a5f0ee6a095\",\n",
      "    \"HTTPStatusCode\": 200,\n",
      "    \"HTTPHeaders\": {\n",
      "      \"date\": \"Mon, 10 Apr 2023 13:27:42 GMT\",\n",
      "      \"content-type\": \"application/x-amz-json-1.1\",\n",
      "      \"content-length\": \"93\",\n",
      "      \"connection\": \"keep-alive\",\n",
      "      \"x-amzn-requestid\": \"050daf8d-4159-4314-8460-1a5f0ee6a095\"\n",
      "    },\n",
      "    \"RetryAttempts\": 0\n",
      "  }\n",
      "}\n"
     ]
    }
   ],
   "source": [
    "base_item_schema_name=\"RetailDemo-base-item-schema\"\n",
    "\n",
    "schema = {\n",
    "    \"type\": \"record\",\n",
    "    \"name\": \"Items\",\n",
    "    \"namespace\": \"com.amazonaws.personalize.schema\",\n",
    "    \"fields\": [\n",
    "    {\n",
    "        \"name\": \"ITEM_ID\",\n",
    "        \"type\": \"string\"\n",
    "    },\n",
    "    {\n",
    "        \"name\": \"NAME\",\n",
    "        \"type\": \"string\"\n",
    "    },\n",
    "    {\n",
    "      \"name\": \"CATEGORY_L1\",\n",
    "      \"type\": [\n",
    "        \"string\"\n",
    "      ],\n",
    "      \"categorical\": True\n",
    "    },\n",
    "    {\n",
    "      \"name\": \"STYLE\",\n",
    "      \"type\": [\n",
    "        \"string\"\n",
    "      ],\n",
    "      \"categorical\": True\n",
    "    },\n",
    "    {\n",
    "        \"name\": \"PRODUCT_DESCRIPTION\",\n",
    "        \"type\": \"string\"\n",
    "    },\n",
    "    {\n",
    "      \"name\": \"PRICE\",\n",
    "      \"type\": \"float\"\n",
    "    },    \n",
    "    ],\n",
    "    \"version\": \"1.0\"\n",
    "}\n",
    "\n",
    "create_metadata_schema_response = personalize.create_schema(      \n",
    "    name = base_item_schema_name,\n",
    "    schema = json.dumps(schema)\n",
    ")\n",
    "\n",
    "base_item_schema_arn = create_metadata_schema_response['schemaArn']\n",
    "print(json.dumps(create_metadata_schema_response, indent=2))"
   ]
  },
  {
   "cell_type": "markdown",
   "id": "f1f7a176-8054-45ec-9009-25c5a297227a",
   "metadata": {},
   "source": [
    "### 3.3 유저"
   ]
  },
  {
   "cell_type": "code",
   "execution_count": 13,
   "id": "ae9c12b0-ab64-4f3b-a592-5984c1cc9da7",
   "metadata": {},
   "outputs": [
    {
     "name": "stdout",
     "output_type": "stream",
     "text": [
      "{\n",
      "  \"schemaArn\": \"arn:aws:personalize:us-east-1:376278017302:schema/RetailDemo-user-schema\",\n",
      "  \"ResponseMetadata\": {\n",
      "    \"RequestId\": \"a9aaca75-c1f5-486f-82e7-b0a2c69c1bd4\",\n",
      "    \"HTTPStatusCode\": 200,\n",
      "    \"HTTPHeaders\": {\n",
      "      \"date\": \"Mon, 10 Apr 2023 13:27:43 GMT\",\n",
      "      \"content-type\": \"application/x-amz-json-1.1\",\n",
      "      \"content-length\": \"88\",\n",
      "      \"connection\": \"keep-alive\",\n",
      "      \"x-amzn-requestid\": \"a9aaca75-c1f5-486f-82e7-b0a2c69c1bd4\"\n",
      "    },\n",
      "    \"RetryAttempts\": 0\n",
      "  }\n",
      "}\n"
     ]
    }
   ],
   "source": [
    "user_schema_name=\"RetailDemo-user-schema\"\n",
    "\n",
    "schema = {\n",
    "    \"type\": \"record\",\n",
    "    \"name\": \"Users\",\n",
    "    \"namespace\": \"com.amazonaws.personalize.schema\",\n",
    "    \"fields\": [\n",
    "    {\n",
    "        \"name\": \"USER_ID\",\n",
    "        \"type\": \"string\"\n",
    "    },\n",
    "    {\n",
    "      \"name\": \"USER_NAME\",\n",
    "      \"type\": \"string\"\n",
    "    },        \n",
    "    {\n",
    "      \"name\": \"GENDER\",\n",
    "      \"type\": [\n",
    "        \"string\"\n",
    "      ],\n",
    "      \"categorical\": True\n",
    "    }        \n",
    "    ],\n",
    "    \"version\": \"1.0\"\n",
    "}\n",
    "\n",
    "create_metadata_schema_response = personalize.create_schema(      \n",
    "    name = user_schema_name,\n",
    "    schema = json.dumps(schema)\n",
    ")\n",
    "\n",
    "user_schema_arn = create_metadata_schema_response['schemaArn']\n",
    "print(json.dumps(create_metadata_schema_response, indent=2))"
   ]
  },
  {
   "cell_type": "markdown",
   "id": "d971b718-f60b-4e2e-a49e-19546181cb53",
   "metadata": {},
   "source": [
    "## 4. 데이터 세트 생성\n",
    "\n",
    "그룹 다음으로 생성할 것은 실제 데이터 세트입니다. 아래의 코드 셀을 실행하여 데이터 세트을 생성해 주세요."
   ]
  },
  {
   "cell_type": "markdown",
   "id": "d31b4fa4-5766-4a4d-b684-9c36a9cda14d",
   "metadata": {},
   "source": [
    "### 4.1 Interactions 데이터 세트 생성 (Base 데이터셋)"
   ]
  },
  {
   "cell_type": "code",
   "execution_count": 14,
   "id": "4f031f8b-e6a8-4c73-8a24-975a294feba8",
   "metadata": {},
   "outputs": [
    {
     "name": "stdout",
     "output_type": "stream",
     "text": [
      "{\n",
      "  \"datasetArn\": \"arn:aws:personalize:us-east-1:376278017302:dataset/RetailDemo-dataset-group/INTERACTIONS\",\n",
      "  \"ResponseMetadata\": {\n",
      "    \"RequestId\": \"4129fb69-c469-403a-ae23-58629ddbaffa\",\n",
      "    \"HTTPStatusCode\": 200,\n",
      "    \"HTTPHeaders\": {\n",
      "      \"date\": \"Mon, 10 Apr 2023 13:29:18 GMT\",\n",
      "      \"content-type\": \"application/x-amz-json-1.1\",\n",
      "      \"content-length\": \"105\",\n",
      "      \"connection\": \"keep-alive\",\n",
      "      \"x-amzn-requestid\": \"4129fb69-c469-403a-ae23-58629ddbaffa\"\n",
      "    },\n",
      "    \"RetryAttempts\": 0\n",
      "  }\n",
      "}\n"
     ]
    }
   ],
   "source": [
    "dataset_type = \"INTERACTIONS\"\n",
    "create_base_dataset_response = personalize.create_dataset(\n",
    "    name = \"RetailDemo-interaction-dataset\",\n",
    "    datasetType = dataset_type,\n",
    "    datasetGroupArn = base_dataset_group_arn,\n",
    "    schemaArn = interaction_schema_arn\n",
    ")\n",
    "\n",
    "base_interaction_dataset_arn = create_base_dataset_response['datasetArn']\n",
    "print(json.dumps(create_base_dataset_response, indent=2))"
   ]
  },
  {
   "cell_type": "markdown",
   "id": "0c3ce641-e08e-497e-8e5d-d8f7609ac36d",
   "metadata": {},
   "source": [
    "### 4.2 Items 데이터 세트 생성  (Base 데이터셋)"
   ]
  },
  {
   "cell_type": "code",
   "execution_count": 15,
   "id": "9d7ca40f-1c9d-49d3-9a40-4b4c1183f44d",
   "metadata": {},
   "outputs": [
    {
     "name": "stdout",
     "output_type": "stream",
     "text": [
      "{\n",
      "  \"datasetArn\": \"arn:aws:personalize:us-east-1:376278017302:dataset/RetailDemo-dataset-group/ITEMS\",\n",
      "  \"ResponseMetadata\": {\n",
      "    \"RequestId\": \"5d164c1b-7a22-4d7f-85a8-6be80d757c02\",\n",
      "    \"HTTPStatusCode\": 200,\n",
      "    \"HTTPHeaders\": {\n",
      "      \"date\": \"Mon, 10 Apr 2023 13:29:19 GMT\",\n",
      "      \"content-type\": \"application/x-amz-json-1.1\",\n",
      "      \"content-length\": \"98\",\n",
      "      \"connection\": \"keep-alive\",\n",
      "      \"x-amzn-requestid\": \"5d164c1b-7a22-4d7f-85a8-6be80d757c02\"\n",
      "    },\n",
      "    \"RetryAttempts\": 0\n",
      "  }\n",
      "}\n"
     ]
    }
   ],
   "source": [
    "dataset_type = \"ITEMS\"\n",
    "create_base_item_dataset_response = personalize.create_dataset(\n",
    "    name = \"RetailDemo-item-dataset\",\n",
    "    datasetType = dataset_type,\n",
    "    datasetGroupArn = base_dataset_group_arn,\n",
    "    schemaArn = base_item_schema_arn,\n",
    "  \n",
    ")\n",
    "\n",
    "base_item_dataset_arn = create_base_item_dataset_response['datasetArn']\n",
    "print(json.dumps(create_base_item_dataset_response, indent=2))"
   ]
  },
  {
   "cell_type": "markdown",
   "id": "2ec3bf33-46ad-4a2f-9a1a-fe24062f0fb9",
   "metadata": {},
   "source": [
    "### 4.3 Users 데이터 세트 생성 (Base 데이터셋)"
   ]
  },
  {
   "cell_type": "code",
   "execution_count": 16,
   "id": "7ecee45e-32ad-4153-a0d7-9fcdf20803ff",
   "metadata": {},
   "outputs": [
    {
     "name": "stdout",
     "output_type": "stream",
     "text": [
      "{\n",
      "  \"datasetArn\": \"arn:aws:personalize:us-east-1:376278017302:dataset/RetailDemo-dataset-group/USERS\",\n",
      "  \"ResponseMetadata\": {\n",
      "    \"RequestId\": \"efc1f7c3-ee55-46de-b74e-e2f448b84bd7\",\n",
      "    \"HTTPStatusCode\": 200,\n",
      "    \"HTTPHeaders\": {\n",
      "      \"date\": \"Mon, 10 Apr 2023 13:29:20 GMT\",\n",
      "      \"content-type\": \"application/x-amz-json-1.1\",\n",
      "      \"content-length\": \"98\",\n",
      "      \"connection\": \"keep-alive\",\n",
      "      \"x-amzn-requestid\": \"efc1f7c3-ee55-46de-b74e-e2f448b84bd7\"\n",
      "    },\n",
      "    \"RetryAttempts\": 0\n",
      "  }\n",
      "}\n"
     ]
    }
   ],
   "source": [
    "dataset_type = \"USERS\"\n",
    "create_base_user_dataset_response = personalize.create_dataset(\n",
    "    name = \"RetailDemo-user-dataset\",\n",
    "    datasetType = dataset_type,\n",
    "    datasetGroupArn = base_dataset_group_arn,\n",
    "    schemaArn = user_schema_arn,\n",
    "  \n",
    ")\n",
    "\n",
    "base_user_dataset_arn = create_base_user_dataset_response['datasetArn']\n",
    "print(json.dumps(create_base_user_dataset_response, indent=2))"
   ]
  },
  {
   "cell_type": "markdown",
   "id": "9555a6d0-d83a-4fa4-b33a-05aca3002c4c",
   "metadata": {},
   "source": [
    "#### 데이터 세트 생성을 위해서 1분 기다림"
   ]
  },
  {
   "cell_type": "code",
   "execution_count": 17,
   "id": "1210402d-3e04-4ae0-9aaa-a261dedc408d",
   "metadata": {},
   "outputs": [],
   "source": [
    "time.sleep(60)"
   ]
  },
  {
   "cell_type": "markdown",
   "id": "f982cc23-6ee9-430f-a4f3-2b3eb6020a1a",
   "metadata": {},
   "source": [
    "## 5. 데이터 세트 Import\n",
    "\n",
    "이전에는 정보를 저장하기 위해 데이터 세트 그룹 및 데이터 세트를 생성했으므로, \n",
    "이제는 모델 구축을 위해 S3에서 Amazon Personalize로 데이터를 로드하는 import job을 실행합니다.\n",
    "\n"
   ]
  },
  {
   "cell_type": "markdown",
   "id": "dc948a8c-6b96-40e6-9319-880fc4e04341",
   "metadata": {},
   "source": [
    "#### Interaction 데이터 세트 Import Job 생성"
   ]
  },
  {
   "cell_type": "code",
   "execution_count": 18,
   "id": "60effee1-a93d-488a-9db5-0577d8f3d292",
   "metadata": {},
   "outputs": [
    {
     "name": "stdout",
     "output_type": "stream",
     "text": [
      "{\n",
      "  \"datasetImportJobArn\": \"arn:aws:personalize:us-east-1:376278017302:dataset-import-job/RetailDeom-base-interaction-dataset-import\",\n",
      "  \"ResponseMetadata\": {\n",
      "    \"RequestId\": \"26bffece-3dc0-4c36-bf05-e7969b7e5318\",\n",
      "    \"HTTPStatusCode\": 200,\n",
      "    \"HTTPHeaders\": {\n",
      "      \"date\": \"Mon, 10 Apr 2023 13:30:45 GMT\",\n",
      "      \"content-type\": \"application/x-amz-json-1.1\",\n",
      "      \"content-length\": \"130\",\n",
      "      \"connection\": \"keep-alive\",\n",
      "      \"x-amzn-requestid\": \"26bffece-3dc0-4c36-bf05-e7969b7e5318\"\n",
      "    },\n",
      "    \"RetryAttempts\": 0\n",
      "  }\n",
      "}\n"
     ]
    }
   ],
   "source": [
    "create_dataset_import_job_response = personalize.create_dataset_import_job(\n",
    "    jobName = \"RetailDeom-base-interaction-dataset-import\",\n",
    "    datasetArn = base_interaction_dataset_arn,\n",
    "    dataSource = {\n",
    "        \"dataLocation\": \"s3://{}/{}\".format(bucket, base_warm_train_interaction_filename)\n",
    "    },\n",
    "    roleArn = role_arn\n",
    ")\n",
    "\n",
    "base_interation_dataset_import_job_arn = create_dataset_import_job_response['datasetImportJobArn']\n",
    "print(json.dumps(create_dataset_import_job_response, indent=2))"
   ]
  },
  {
   "cell_type": "markdown",
   "id": "62982954-d79c-4452-9288-6ba82491d4e8",
   "metadata": {},
   "source": [
    "#### 아이템 데이터 세트 Import Job 생성"
   ]
  },
  {
   "cell_type": "code",
   "execution_count": 19,
   "id": "49bb4913-0f74-42cf-a8cb-469a95fde687",
   "metadata": {},
   "outputs": [
    {
     "name": "stdout",
     "output_type": "stream",
     "text": [
      "{\n",
      "  \"datasetImportJobArn\": \"arn:aws:personalize:us-east-1:376278017302:dataset-import-job/RetailDemo-base-item-dataset-import\",\n",
      "  \"ResponseMetadata\": {\n",
      "    \"RequestId\": \"b36256df-5e4f-4e1a-a167-3c5eb06593bc\",\n",
      "    \"HTTPStatusCode\": 200,\n",
      "    \"HTTPHeaders\": {\n",
      "      \"date\": \"Mon, 10 Apr 2023 13:30:47 GMT\",\n",
      "      \"content-type\": \"application/x-amz-json-1.1\",\n",
      "      \"content-length\": \"123\",\n",
      "      \"connection\": \"keep-alive\",\n",
      "      \"x-amzn-requestid\": \"b36256df-5e4f-4e1a-a167-3c5eb06593bc\"\n",
      "    },\n",
      "    \"RetryAttempts\": 0\n",
      "  }\n",
      "}\n"
     ]
    }
   ],
   "source": [
    "create_item_dataset_import_job_response = personalize.create_dataset_import_job(\n",
    "    jobName = \"RetailDemo-base-item-dataset-import\",\n",
    "    datasetArn = base_item_dataset_arn,\n",
    "    dataSource = {\n",
    "        \"dataLocation\": \"s3://{}/{}\".format(bucket, base_items_filename)\n",
    "    },\n",
    "    roleArn = role_arn\n",
    ")\n",
    "\n",
    "base_item_dataset_import_job_arn = create_item_dataset_import_job_response['datasetImportJobArn']\n",
    "print(json.dumps(create_item_dataset_import_job_response, indent=2))"
   ]
  },
  {
   "cell_type": "markdown",
   "id": "7877a5be-35ad-423f-9297-50282d096ba6",
   "metadata": {},
   "source": [
    "#### 유저 데이터 세트 Import Job 생성"
   ]
  },
  {
   "cell_type": "code",
   "execution_count": 20,
   "id": "21b5a17f-d752-4b41-aea6-6be02ea46406",
   "metadata": {},
   "outputs": [
    {
     "name": "stdout",
     "output_type": "stream",
     "text": [
      "{\n",
      "  \"datasetImportJobArn\": \"arn:aws:personalize:us-east-1:376278017302:dataset-import-job/RetailDemo-base-user-dataset-import\",\n",
      "  \"ResponseMetadata\": {\n",
      "    \"RequestId\": \"614d9816-bf37-44ee-9057-9cf5caaeb559\",\n",
      "    \"HTTPStatusCode\": 200,\n",
      "    \"HTTPHeaders\": {\n",
      "      \"date\": \"Mon, 10 Apr 2023 13:30:48 GMT\",\n",
      "      \"content-type\": \"application/x-amz-json-1.1\",\n",
      "      \"content-length\": \"123\",\n",
      "      \"connection\": \"keep-alive\",\n",
      "      \"x-amzn-requestid\": \"614d9816-bf37-44ee-9057-9cf5caaeb559\"\n",
      "    },\n",
      "    \"RetryAttempts\": 0\n",
      "  }\n",
      "}\n"
     ]
    }
   ],
   "source": [
    "create_user_dataset_import_job_response = personalize.create_dataset_import_job(\n",
    "    jobName = \"RetailDemo-base-user-dataset-import\",\n",
    "    datasetArn = base_user_dataset_arn,\n",
    "    dataSource = {\n",
    "        \"dataLocation\": \"s3://{}/{}\".format(bucket, base_users_filename)\n",
    "    },\n",
    "    roleArn = role_arn\n",
    ")\n",
    "\n",
    "base_user_dataset_import_job_arn = create_user_dataset_import_job_response['datasetImportJobArn']\n",
    "print(json.dumps(create_user_dataset_import_job_response, indent=2))"
   ]
  },
  {
   "cell_type": "markdown",
   "id": "f9e33781-5b16-471b-a69a-dc23575ba3f2",
   "metadata": {},
   "source": [
    "### 데이터 세트 Import job이 활성화 상태가 될 때까지 대기\n",
    "\n",
    "Import job이 완료되기까지 시간이 걸립니다. 아래 코드 셀의 출력 결과가 DatasetImportJob: ACTIVE가 될 때까지 기다려 주세요."
   ]
  },
  {
   "cell_type": "markdown",
   "id": "0bd68ace-92e0-4881-8888-843e8c4e3bfe",
   "metadata": {},
   "source": [
    "#### 인터렉션"
   ]
  },
  {
   "cell_type": "code",
   "execution_count": 21,
   "id": "5f77eefc-4c5c-41bc-b18a-e8603114b462",
   "metadata": {},
   "outputs": [
    {
     "name": "stdout",
     "output_type": "stream",
     "text": [
      "DatasetImportJob: CREATE IN_PROGRESS\n",
      "DatasetImportJob: CREATE IN_PROGRESS\n",
      "DatasetImportJob: CREATE IN_PROGRESS\n",
      "DatasetImportJob: CREATE IN_PROGRESS\n",
      "DatasetImportJob: CREATE IN_PROGRESS\n",
      "DatasetImportJob: CREATE IN_PROGRESS\n",
      "DatasetImportJob: CREATE IN_PROGRESS\n",
      "DatasetImportJob: CREATE IN_PROGRESS\n",
      "DatasetImportJob: ACTIVE\n",
      "CPU times: user 27.7 ms, sys: 7.15 ms, total: 34.9 ms\n",
      "Wall time: 2min\n"
     ]
    }
   ],
   "source": [
    "%%time\n",
    "\n",
    "status = None\n",
    "max_time = time.time() + 3*60*60 # 3 hours\n",
    "while time.time() < max_time:\n",
    "    describe_dataset_import_job_response = personalize.describe_dataset_import_job(\n",
    "        datasetImportJobArn = base_interation_dataset_import_job_arn\n",
    "    )\n",
    "    \n",
    "    dataset_import_job = describe_dataset_import_job_response[\"datasetImportJob\"]\n",
    "    if \"latestDatasetImportJobRun\" not in dataset_import_job:\n",
    "        status = dataset_import_job[\"status\"]\n",
    "        print(\"DatasetImportJob: {}\".format(status))\n",
    "    else:\n",
    "        status = dataset_import_job[\"latestDatasetImportJobRun\"][\"status\"]\n",
    "        print(\"LatestDatasetImportJobRun: {}\".format(status))\n",
    "    \n",
    "    if status == \"ACTIVE\" or status == \"CREATE FAILED\":\n",
    "        break\n",
    "        \n",
    "    time.sleep(15)"
   ]
  },
  {
   "cell_type": "markdown",
   "id": "4c49391c-6aba-422b-9d1e-fc50cb10fb5d",
   "metadata": {},
   "source": [
    "#### 아이템"
   ]
  },
  {
   "cell_type": "code",
   "execution_count": 22,
   "id": "e92cb2a5-10ae-416d-b5b5-3570e9066abe",
   "metadata": {},
   "outputs": [
    {
     "name": "stdout",
     "output_type": "stream",
     "text": [
      "DatasetImportJob: CREATE IN_PROGRESS\n",
      "DatasetImportJob: CREATE IN_PROGRESS\n",
      "DatasetImportJob: CREATE IN_PROGRESS\n",
      "DatasetImportJob: CREATE IN_PROGRESS\n",
      "DatasetImportJob: CREATE IN_PROGRESS\n",
      "DatasetImportJob: CREATE IN_PROGRESS\n",
      "DatasetImportJob: ACTIVE\n"
     ]
    }
   ],
   "source": [
    "status = None\n",
    "max_time = time.time() + 3*60*60 # 3 hours\n",
    "while time.time() < max_time:\n",
    "    describe_dataset_import_job_response = personalize.describe_dataset_import_job(\n",
    "        datasetImportJobArn = base_item_dataset_import_job_arn\n",
    "    )\n",
    "    \n",
    "    dataset_import_job = describe_dataset_import_job_response[\"datasetImportJob\"]\n",
    "    if \"latestDatasetImportJobRun\" not in dataset_import_job:\n",
    "        status = dataset_import_job[\"status\"]\n",
    "        print(\"DatasetImportJob: {}\".format(status))\n",
    "    else:\n",
    "        status = dataset_import_job[\"latestDatasetImportJobRun\"][\"status\"]\n",
    "        print(\"LatestDatasetImportJobRun: {}\".format(status))\n",
    "    \n",
    "    if status == \"ACTIVE\" or status == \"CREATE FAILED\":\n",
    "        break\n",
    "        \n",
    "    time.sleep(15)"
   ]
  },
  {
   "cell_type": "markdown",
   "id": "9b86aaf7-9b2f-4674-a819-2cfe2ed20d65",
   "metadata": {},
   "source": [
    "#### 유저"
   ]
  },
  {
   "cell_type": "code",
   "execution_count": 23,
   "id": "99412f33-30e5-48cd-8a9b-1fff8e3949b9",
   "metadata": {},
   "outputs": [
    {
     "name": "stdout",
     "output_type": "stream",
     "text": [
      "DatasetImportJob: ACTIVE\n"
     ]
    }
   ],
   "source": [
    "status = None\n",
    "max_time = time.time() + 3*60*60 # 3 hours\n",
    "while time.time() < max_time:\n",
    "    describe_dataset_import_job_response = personalize.describe_dataset_import_job(\n",
    "        datasetImportJobArn = base_user_dataset_import_job_arn\n",
    "    )\n",
    "    \n",
    "    dataset_import_job = describe_dataset_import_job_response[\"datasetImportJob\"]\n",
    "    if \"latestDatasetImportJobRun\" not in dataset_import_job:\n",
    "        status = dataset_import_job[\"status\"]\n",
    "        print(\"DatasetImportJob: {}\".format(status))\n",
    "    else:\n",
    "        status = dataset_import_job[\"latestDatasetImportJobRun\"][\"status\"]\n",
    "        print(\"LatestDatasetImportJobRun: {}\".format(status))\n",
    "    \n",
    "    if status == \"ACTIVE\" or status == \"CREATE FAILED\":\n",
    "        break\n",
    "        \n",
    "    time.sleep(15)"
   ]
  },
  {
   "cell_type": "markdown",
   "id": "597bc58a-9c69-4429-902f-b4df46a09c02",
   "metadata": {},
   "source": [
    "## Review\n",
    "\n",
    "위의 코드를 사용하여 데이타 세트 그룹, 데이타 세트, 데이타 세트 Import까지를 수행 하였습니다. 다음 단계는 이를 기반으로 솔류션(모델)을 생성하는 단계를 진행 합니다.\n",
    "\n",
    "\n",
    "## 다음 노트북에 대한 참고 사항\n",
    "\n",
    "다음 실습에 필요한 몇 가지 값들이 있습니다. 아래 셀을 실행하여 저장한 후, 다음 주피터 노트북에서 그대로 사용할 수 있습니다."
   ]
  },
  {
   "cell_type": "code",
   "execution_count": 24,
   "id": "5152d416-b265-4506-a3c8-94bbecc6c09b",
   "metadata": {},
   "outputs": [
    {
     "name": "stdout",
     "output_type": "stream",
     "text": [
      "Stored 'base_dataset_group_arn' (str)\n",
      "Stored 'base_interaction_dataset_arn' (str)\n",
      "Stored 'base_item_dataset_arn' (str)\n",
      "Stored 'base_user_dataset_arn' (str)\n",
      "Stored 'base_item_schema_arn' (str)\n",
      "Stored 'interaction_schema_arn' (str)\n",
      "Stored 'user_schema_arn' (str)\n",
      "Stored 'role_arn' (str)\n"
     ]
    }
   ],
   "source": [
    "%store base_dataset_group_arn\n",
    "%store base_interaction_dataset_arn\n",
    "%store base_item_dataset_arn\n",
    "%store base_user_dataset_arn\n",
    "%store base_item_schema_arn\n",
    "\n",
    "%store interaction_schema_arn\n",
    "%store user_schema_arn\n",
    "%store role_arn"
   ]
  },
  {
   "cell_type": "code",
   "execution_count": null,
   "id": "0f6a7041-81dc-49aa-a85e-ce77aaaaee48",
   "metadata": {},
   "outputs": [],
   "source": []
  }
 ],
 "metadata": {
  "kernelspec": {
   "display_name": "conda_python3",
   "language": "python",
   "name": "conda_python3"
  },
  "language_info": {
   "codemirror_mode": {
    "name": "ipython",
    "version": 3
   },
   "file_extension": ".py",
   "mimetype": "text/x-python",
   "name": "python",
   "nbconvert_exporter": "python",
   "pygments_lexer": "ipython3",
   "version": "3.10.6"
  }
 },
 "nbformat": 4,
 "nbformat_minor": 5
}
