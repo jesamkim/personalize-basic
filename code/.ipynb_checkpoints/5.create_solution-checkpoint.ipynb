{
 "cells": [
  {
   "cell_type": "markdown",
   "id": "c939bb05-9ee2-487d-a485-c93fadda3c5e",
   "metadata": {},
   "source": [
    "# [Module 5] Solutions 생성 \n",
    "\n",
    "이 노트북은 앞에서 생성한 데이타셋 그룹, 데이타셋을 바탕으로 아래와 같은 작업을 합니다."
   ]
  },
  {
   "cell_type": "markdown",
   "id": "277cc56b-076d-4ecb-8334-775e1b24676b",
   "metadata": {},
   "source": [
    "## 0. 환경 설정"
   ]
  },
  {
   "cell_type": "code",
   "execution_count": 1,
   "id": "65aa6a79-572b-4bdd-b629-27b42c70135b",
   "metadata": {},
   "outputs": [],
   "source": [
    "# Imports\n",
    "import boto3\n",
    "import json\n",
    "import numpy as np\n",
    "import pandas as pd\n",
    "import time"
   ]
  },
  {
   "cell_type": "code",
   "execution_count": 2,
   "id": "b6f79283-4dbd-4db8-9522-2b49c3d76467",
   "metadata": {},
   "outputs": [],
   "source": [
    "# Configure the SDK to Personalize:\n",
    "personalize = boto3.client('personalize')"
   ]
  },
  {
   "cell_type": "markdown",
   "id": "82a0d958-c56f-4026-a92b-864d73a573dc",
   "metadata": {},
   "source": [
    "아래 코드 셀은 이전 notebook에서 저장했던 공유 변수들을 불러옵니다."
   ]
  },
  {
   "cell_type": "code",
   "execution_count": 3,
   "id": "f29e3e5c-db5e-4875-bc0e-c42b37f47e9e",
   "metadata": {},
   "outputs": [],
   "source": [
    "%store -r"
   ]
  },
  {
   "cell_type": "markdown",
   "id": "ba9c61bb-fb94-4689-bb7c-76fe24b037ca",
   "metadata": {},
   "source": [
    "## 1. 솔루션 생성 : USER-PERSONALIZATION"
   ]
  },
  {
   "cell_type": "code",
   "execution_count": 4,
   "id": "c856022e-a1d1-4550-9575-cf9915fc5919",
   "metadata": {},
   "outputs": [
    {
     "data": {
      "text/plain": [
       "'arn:aws:personalize:us-east-1:376278017302:dataset-group/RetailDemo-dataset-group'"
      ]
     },
     "execution_count": 4,
     "metadata": {},
     "output_type": "execute_result"
    }
   ],
   "source": [
    "base_dataset_group_arn"
   ]
  },
  {
   "cell_type": "code",
   "execution_count": 5,
   "id": "ccb44e0b-0b31-4a5c-9dc4-8f54c413140d",
   "metadata": {},
   "outputs": [
    {
     "name": "stdout",
     "output_type": "stream",
     "text": [
      "Base Solution ARN: arn:aws:personalize:us-east-1:376278017302:solution/RetailDemo-user-personalization\n"
     ]
    }
   ],
   "source": [
    "# Define the solution details\n",
    "base_solution_name = \"RetailDemo-user-personalization\"\n",
    "recipe_arn = \"arn:aws:personalize:::recipe/aws-user-personalization\"\n",
    "perform_hpo = False # set to true if you want to perform hyperparameter optimization\n",
    "\n",
    "# Create the solution\n",
    "create_solution_response = personalize.create_solution(\n",
    "    name=base_solution_name,\n",
    "    recipeArn=recipe_arn,\n",
    "    performHPO=perform_hpo,\n",
    "    datasetGroupArn = base_dataset_group_arn,\n",
    "    solutionConfig = {\n",
    "        \"algorithmHyperParameters\": {\n",
    "            \"bptt\": \"32\",\n",
    "            \"hidden_dimension\": \"149\",\n",
    "            \"recency_mask\": \"true\"\n",
    "        },\n",
    "        \"featureTransformationParameters\": {\n",
    "            \"max_user_history_length_percentile\": \"0.99\",\n",
    "            \"min_user_history_length_percentile\": \"0.00\"\n",
    "        }\n",
    "    }\n",
    ")\n",
    "\n",
    "# Get the solution ARN\n",
    "base_solution_arn = create_solution_response['solutionArn']\n",
    "print(f'Base Solution ARN: {base_solution_arn}')\n"
   ]
  },
  {
   "cell_type": "markdown",
   "id": "0aba53e7-540c-4309-8ecf-dc6bd25ae382",
   "metadata": {},
   "source": [
    "## 2. 솔루션 버전 생성"
   ]
  },
  {
   "cell_type": "code",
   "execution_count": 6,
   "id": "d359ff73-156d-4bc7-a0b6-3124c6010498",
   "metadata": {},
   "outputs": [
    {
     "name": "stdout",
     "output_type": "stream",
     "text": [
      "Base Solution version ARN: arn:aws:personalize:us-east-1:376278017302:solution/RetailDemo-user-personalization/02b4a057\n"
     ]
    }
   ],
   "source": [
    "# Create the solution version\n",
    "create_solution_version_response = personalize.create_solution_version(\n",
    "    solutionArn=base_solution_arn\n",
    ")\n",
    "\n",
    "# Get the solution version ARN\n",
    "base_solution_version_arn = create_solution_version_response['solutionVersionArn']\n",
    "print(f'Base Solution version ARN: {base_solution_version_arn}')"
   ]
  },
  {
   "cell_type": "markdown",
   "id": "94906c7b-26a1-4636-8665-141ad5d1091b",
   "metadata": {},
   "source": [
    "## 다음 노트북에 대한 참고 사항\n",
    "\n",
    "다음 실습에 필요한 몇 가지 값들이 있습니다. 아래 셀을 실행하여 저장한 후, 다음 주피터 노트북에서 그대로 사용할 수 있습니다."
   ]
  },
  {
   "cell_type": "code",
   "execution_count": 7,
   "id": "5f90572b-9986-41f6-bc61-0ba5bfc4dce1",
   "metadata": {},
   "outputs": [
    {
     "name": "stdout",
     "output_type": "stream",
     "text": [
      "Stored 'base_solution_arn' (str)\n",
      "Stored 'base_solution_version_arn' (str)\n"
     ]
    }
   ],
   "source": [
    "%store base_solution_arn\n",
    "%store base_solution_version_arn"
   ]
  },
  {
   "cell_type": "markdown",
   "id": "f499049d-439d-4f83-afcf-80df169b5592",
   "metadata": {},
   "source": [
    "## 7. 솔루션 버전 생성 확인 하기"
   ]
  },
  {
   "cell_type": "code",
   "execution_count": 8,
   "id": "5a725370-5fbb-4022-a76b-388fcd89b4ac",
   "metadata": {},
   "outputs": [
    {
     "name": "stdout",
     "output_type": "stream",
     "text": [
      "status_user-personalization : CREATE PENDING\n",
      "-------------------------------------->\n",
      "status_user-personalization : CREATE IN_PROGRESS\n",
      "-------------------------------------->\n",
      "status_user-personalization : CREATE IN_PROGRESS\n",
      "-------------------------------------->\n",
      "status_user-personalization : CREATE IN_PROGRESS\n",
      "-------------------------------------->\n",
      "status_user-personalization : CREATE IN_PROGRESS\n",
      "-------------------------------------->\n",
      "status_user-personalization : CREATE IN_PROGRESS\n",
      "-------------------------------------->\n",
      "status_user-personalization : CREATE IN_PROGRESS\n",
      "-------------------------------------->\n",
      "status_user-personalization : CREATE IN_PROGRESS\n",
      "-------------------------------------->\n",
      "status_user-personalization : CREATE IN_PROGRESS\n",
      "-------------------------------------->\n",
      "status_user-personalization : CREATE IN_PROGRESS\n",
      "-------------------------------------->\n",
      "status_user-personalization : CREATE IN_PROGRESS\n",
      "-------------------------------------->\n",
      "status_user-personalization : CREATE IN_PROGRESS\n",
      "-------------------------------------->\n",
      "status_user-personalization : CREATE IN_PROGRESS\n",
      "-------------------------------------->\n",
      "status_user-personalization : CREATE IN_PROGRESS\n",
      "-------------------------------------->\n",
      "status_user-personalization : CREATE IN_PROGRESS\n",
      "-------------------------------------->\n",
      "status_user-personalization : CREATE IN_PROGRESS\n",
      "-------------------------------------->\n",
      "status_user-personalization : CREATE IN_PROGRESS\n",
      "-------------------------------------->\n",
      "status_user-personalization : CREATE IN_PROGRESS\n",
      "-------------------------------------->\n",
      "status_user-personalization : CREATE IN_PROGRESS\n",
      "-------------------------------------->\n",
      "status_user-personalization : CREATE IN_PROGRESS\n",
      "-------------------------------------->\n",
      "status_user-personalization : CREATE IN_PROGRESS\n",
      "-------------------------------------->\n",
      "status_user-personalization : CREATE IN_PROGRESS\n",
      "-------------------------------------->\n",
      "status_user-personalization : CREATE IN_PROGRESS\n",
      "-------------------------------------->\n",
      "status_user-personalization : CREATE IN_PROGRESS\n",
      "-------------------------------------->\n",
      "status_user-personalization : CREATE IN_PROGRESS\n",
      "-------------------------------------->\n",
      "status_user-personalization : CREATE IN_PROGRESS\n",
      "-------------------------------------->\n",
      "status_user-personalization : CREATE IN_PROGRESS\n",
      "-------------------------------------->\n",
      "status_user-personalization : CREATE IN_PROGRESS\n",
      "-------------------------------------->\n",
      "status_user-personalization : CREATE IN_PROGRESS\n",
      "-------------------------------------->\n",
      "status_user-personalization : CREATE IN_PROGRESS\n",
      "-------------------------------------->\n",
      "status_user-personalization : CREATE IN_PROGRESS\n",
      "-------------------------------------->\n",
      "status_user-personalization : CREATE IN_PROGRESS\n",
      "-------------------------------------->\n",
      "status_user-personalization : CREATE IN_PROGRESS\n",
      "-------------------------------------->\n",
      "status_user-personalization : CREATE IN_PROGRESS\n",
      "-------------------------------------->\n",
      "status_user-personalization : CREATE IN_PROGRESS\n",
      "-------------------------------------->\n",
      "status_user-personalization : ACTIVE\n",
      "Generating solution version is completed\n",
      "CPU times: user 95.7 ms, sys: 21.9 ms, total: 118 ms\n",
      "Wall time: 17min 32s\n"
     ]
    }
   ],
   "source": [
    "%%time\n",
    "\n",
    "\n",
    "max_time = time.time() + 3*60*60 # 3 hours\n",
    "while time.time() < max_time:\n",
    "\n",
    "    # status_aws_user_personalization\n",
    "    describe_solution_response = personalize.describe_solution_version(\n",
    "        solutionVersionArn = base_solution_version_arn\n",
    "    )  \n",
    "    status_solution = describe_solution_response['solutionVersion'][\"status\"]\n",
    "    print(\"status_user-personalization : {}\".format(status_solution))\n",
    "    \n",
    "        \n",
    "    if (status_solution == \"ACTIVE\" or status_solution == \"CREATE FAILED\") :\n",
    "        break\n",
    "    print(\"-------------------------------------->\")\n",
    "    time.sleep(30)\n",
    "\n",
    "print(\"Generating solution version is completed\")"
   ]
  },
  {
   "cell_type": "code",
   "execution_count": null,
   "id": "3b2dd4ac-69a2-445d-ae44-3e9d8841d2cc",
   "metadata": {},
   "outputs": [],
   "source": []
  }
 ],
 "metadata": {
  "kernelspec": {
   "display_name": "conda_python3",
   "language": "python",
   "name": "conda_python3"
  },
  "language_info": {
   "codemirror_mode": {
    "name": "ipython",
    "version": 3
   },
   "file_extension": ".py",
   "mimetype": "text/x-python",
   "name": "python",
   "nbconvert_exporter": "python",
   "pygments_lexer": "ipython3",
   "version": "3.10.6"
  }
 },
 "nbformat": 4,
 "nbformat_minor": 5
}
