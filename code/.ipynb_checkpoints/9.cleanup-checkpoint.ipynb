{
 "cells": [
  {
   "cell_type": "markdown",
   "id": "df50504b-9d55-47f9-bdd0-9a14338d9ed7",
   "metadata": {},
   "source": [
    "# [Module 8] 리소스 삭제\n",
    "\n",
    "모델을 구축한 후 캠페인(campaign), 솔루션(solution) 및 데이터셋(dataset)을 삭제할 수 있습니다. 다음 셀은 이 핸즈온에서 생성한 모든 리소스를 삭제합니다.\n",
    "\n",
    "## 라이브러리 임포트 및 AWS 연결 \n",
    "\n",
    "아래 코드 셀은 필요한 모든 라이브러리를 가져온 다음 Amazon Personalize에 연결합니다."
   ]
  },
  {
   "cell_type": "code",
   "execution_count": null,
   "id": "973d7e56-8f9a-400d-bd0b-d743ca2234a5",
   "metadata": {},
   "outputs": [],
   "source": [
    "# Imports\n",
    "import boto3\n",
    "import json\n",
    "import numpy as np\n",
    "import pandas as pd\n",
    "import time"
   ]
  },
  {
   "cell_type": "code",
   "execution_count": null,
   "id": "df7c6235-f01b-4543-84a9-e95974c7ed48",
   "metadata": {},
   "outputs": [],
   "source": [
    "# Configure the SDK to Personalize:\n",
    "personalize = boto3.client('personalize')\n",
    "personalize_runtime = boto3.client('personalize-runtime')"
   ]
  },
  {
   "cell_type": "code",
   "execution_count": null,
   "id": "33f0273a-0396-4967-9714-58d5c487b940",
   "metadata": {},
   "outputs": [],
   "source": [
    "%store -r"
   ]
  },
  {
   "cell_type": "markdown",
   "id": "7a147353-1ae8-4252-905e-1dc3ec127f4e",
   "metadata": {},
   "source": [
    "# 1. Campaign 삭제"
   ]
  },
  {
   "cell_type": "code",
   "execution_count": null,
   "id": "62a79a27-bcdc-456d-b5c0-3d1d589db68a",
   "metadata": {},
   "outputs": [],
   "source": [
    "# Delete the campaign:\n",
    "personalize.delete_campaign(campaignArn=base_campaign_arn)\n",
    "\n",
    "time.sleep(300)"
   ]
  },
  {
   "cell_type": "markdown",
   "id": "08d9d7b4-48bd-433f-9433-556cd1f0f01f",
   "metadata": {},
   "source": [
    "# 2. Solution 삭제"
   ]
  },
  {
   "cell_type": "code",
   "execution_count": null,
   "id": "e2fc1ac7-2c51-4e07-9544-477d23d7ce99",
   "metadata": {},
   "outputs": [],
   "source": [
    "# Delete the Solution:\n",
    "personalize.delete_solution(solutionArn=base_solution_arn)\n",
    "\n",
    "time.sleep(100)"
   ]
  },
  {
   "cell_type": "markdown",
   "id": "c3c42105-cc88-4007-8bb9-9c2b45d0af8d",
   "metadata": {},
   "source": [
    "# 3. Interactions, Users, Items 데이터 셋 삭제"
   ]
  },
  {
   "cell_type": "code",
   "execution_count": null,
   "id": "fed3b5b0-60b7-4d7d-a726-81e51445e7f7",
   "metadata": {},
   "outputs": [],
   "source": [
    "# Delete the interaction dataset\n",
    "personalize.delete_dataset(datasetArn=base_interaction_dataset_arn)\n",
    "personalize.delete_dataset(datasetArn=base_item_dataset_arn)\n",
    "personalize.delete_dataset(datasetArn=base_user_dataset_arn)\n",
    "\n",
    "\n",
    "time.sleep(60)"
   ]
  },
  {
   "cell_type": "markdown",
   "id": "553e7638-ab08-4e72-8470-4012d71c9e23",
   "metadata": {},
   "source": [
    "# 4. Schema 삭제"
   ]
  },
  {
   "cell_type": "code",
   "execution_count": null,
   "id": "253e4b3a-0732-40e9-bd69-bd0ae295d401",
   "metadata": {},
   "outputs": [],
   "source": [
    "# Delete the schema\n",
    "personalize.delete_schema(schemaArn=interaction_schema_arn)\n",
    "personalize.delete_schema(schemaArn=base_item_schema_arn)\n",
    "personalize.delete_schema(schemaArn=user_schema_arn)"
   ]
  },
  {
   "cell_type": "markdown",
   "id": "5ef178f2-9fc1-4b6a-9c52-a75cfbe61c1e",
   "metadata": {},
   "source": [
    "## 5. Dataset Group 삭제"
   ]
  },
  {
   "cell_type": "code",
   "execution_count": null,
   "id": "1b5abf9a-f744-42db-b00a-b42a93ea6d32",
   "metadata": {},
   "outputs": [],
   "source": [
    "# Delete the DatasetGroup\n",
    "personalize.delete_dataset_group(\n",
    "    datasetGroupArn=base_dataset_group_arn\n",
    ")\n",
    "\n",
    "\n",
    "time.sleep(20)"
   ]
  },
  {
   "cell_type": "markdown",
   "id": "f4191ce8-9e49-4504-8820-fc8a1ed17266",
   "metadata": {},
   "source": [
    "# 6. S3 파일(csv) 삭제"
   ]
  },
  {
   "cell_type": "code",
   "execution_count": null,
   "id": "859a0bd3-e3ed-4736-bc99-d88e9692126b",
   "metadata": {},
   "outputs": [],
   "source": [
    "s3_path = \"s3://{}/{}/\".format(bucket, 'base-dataset')\n",
    "\n",
    "! aws s3 rm {s3_path} --recursive"
   ]
  },
  {
   "cell_type": "markdown",
   "id": "267b724c-caad-480b-9a7c-e85436cd35c9",
   "metadata": {
    "tags": []
   },
   "source": [
    "### 디스크 저장 변수 삭제\n",
    "\n",
    "디스크에 저장된 변수들을 모두 지웁니다."
   ]
  },
  {
   "cell_type": "code",
   "execution_count": null,
   "id": "c09d2261-2a45-498b-88ac-faeed40f274b",
   "metadata": {},
   "outputs": [],
   "source": [
    "%store -z"
   ]
  },
  {
   "cell_type": "code",
   "execution_count": null,
   "id": "21678f54-1178-44b4-83d5-3af7b6eff7d9",
   "metadata": {},
   "outputs": [],
   "source": []
  }
 ],
 "metadata": {
  "kernelspec": {
   "display_name": "conda_python3",
   "language": "python",
   "name": "conda_python3"
  },
  "language_info": {
   "codemirror_mode": {
    "name": "ipython",
    "version": 3
   },
   "file_extension": ".py",
   "mimetype": "text/x-python",
   "name": "python",
   "nbconvert_exporter": "python",
   "pygments_lexer": "ipython3",
   "version": "3.10.6"
  }
 },
 "nbformat": 4,
 "nbformat_minor": 5
}
