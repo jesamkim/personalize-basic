{
 "cells": [
  {
   "cell_type": "markdown",
   "id": "891d75e2-2c90-44ef-b708-b9162fabae16",
   "metadata": {},
   "source": [
    "# [Module 2] 데이터 전처리\n",
    "\n",
    "이 워크샵은 기본 커널을 conda_python3를 사용합니다."
   ]
  },
  {
   "cell_type": "markdown",
   "id": "c59c1ccf-6574-4863-931a-98d470ab62d5",
   "metadata": {},
   "source": [
    "## 0. 환경 설정"
   ]
  },
  {
   "cell_type": "markdown",
   "id": "f0295843-c56f-4200-a63b-1907e41b508e",
   "metadata": {},
   "source": [
    "#### Library Import \n",
    "\n",
    "파이썬에는 광범위한 라이브러리 모음이 포함되어 있으며, 본 LAB을 위해서 핵심 Data Scientist용 Tool 인 boto3 (AWS SDK) 및 Pandas/Numpy와 같은 라이브러리를 가져와야 합니다."
   ]
  },
  {
   "cell_type": "code",
   "execution_count": 1,
   "id": "58c7ef04-021d-480c-9cbe-459977c05721",
   "metadata": {},
   "outputs": [],
   "source": [
    "import boto3\n",
    "import json\n",
    "import numpy as np\n",
    "import pandas as pd\n",
    "import time\n",
    "from datetime import datetime\n",
    "\n",
    "import matplotlib.pyplot as plt"
   ]
  },
  {
   "cell_type": "markdown",
   "id": "24a90ea8-8d84-44ce-8b46-b505e26825dd",
   "metadata": {},
   "source": [
    "변수 로딩"
   ]
  },
  {
   "cell_type": "code",
   "execution_count": 2,
   "id": "79c4b2d6-e2b5-417c-b227-467257701d8e",
   "metadata": {},
   "outputs": [],
   "source": [
    "%store -r"
   ]
  },
  {
   "cell_type": "markdown",
   "id": "1a5bb185-ebc3-465f-912c-3e1acbe6e722",
   "metadata": {},
   "source": [
    "## Personalize에서 학습 수행을 위한 데이터 제한 요건\n",
    "\n",
    "Personalize에서 학습을 수행하기 위해서는 다음과 [official limits](https://docs.aws.amazon.com/personalize/latest/dg/limits.html)같은 데이터 요구사항을 맞추어야 합니다. \n",
    "\n",
    "* 최소 25명 고유 사용자 \n",
    "* 최소 100개 고유 아이템 \n",
    "* 사용자 당 2개 이상의 Interaction(예. 구매,평가 등) 기록\n",
    "\n",
    "\n",
    "하지만 일반적으로 다음과 같은 데이터가 준비 되어 있는것이 좋습니다. \n",
    "\n",
    "* 최소 50명 고유 사용자 \n",
    "* 최소 100개 고유 아이템 \n",
    "* 사용자 당 24 이상의 Interaction(예. 구매,평가 등) 기록\n",
    "\n",
    "#### 중요 하이퍼 파라미터\n",
    "**min_user_history_length_percentile, max_user_history_length_percentile**\n",
    "- 일반적으로 가지고 있는 interaction의 데이타 셋이 사용자당 interaction의 수가 다릅니다.\n",
    "즉 1개인 사용자도 많고, 엄청 많은 사용자도 있습니다. **이런 양 극단의 사용자를 제외하고 학습 데이타로 사용하는 것이 더욱 의미있는 추천을 받을 수 있습니다.** 아래 예 및 링크를 참고하시기 바랍니다.\n",
    "    - For example, setting min_user_history_length_percentile to 0.05 and max_user_history_length_percentile to 0.95 includes all users except those with history lengths at the bottom or top 5%.\n",
    "\n",
    "\n",
    "- User-Personalization Recipe\n",
    "    - https://docs.aws.amazon.com/personalize/latest/dg/native-recipe-new-item-USER_PERSONALIZATION.html"
   ]
  },
  {
   "cell_type": "markdown",
   "id": "5a8b244d-8b5d-4bd2-bd6c-70e67661c463",
   "metadata": {},
   "source": [
    "## 1. 데이터 탐색"
   ]
  },
  {
   "cell_type": "markdown",
   "id": "b8fb0542-55c3-4ad2-91b7-03fc34f6be73",
   "metadata": {},
   "source": [
    "### 1.1 전체 Interaction 분포\n",
    "\n",
    "Interaction 분포는 아래와 같습니다. <br>\n",
    "**유저에 대해서 최소는 20번이고, 중간값은 96번, 최대는 2314번을 rating을 했습니다.**"
   ]
  },
  {
   "cell_type": "code",
   "execution_count": 3,
   "id": "ff075e39-db1b-452e-8578-c1cbb0ef7603",
   "metadata": {},
   "outputs": [
    {
     "data": {
      "text/html": [
       "<div>\n",
       "<style scoped>\n",
       "    .dataframe tbody tr th:only-of-type {\n",
       "        vertical-align: middle;\n",
       "    }\n",
       "\n",
       "    .dataframe tbody tr th {\n",
       "        vertical-align: top;\n",
       "    }\n",
       "\n",
       "    .dataframe thead th {\n",
       "        text-align: right;\n",
       "    }\n",
       "</style>\n",
       "<table border=\"1\" class=\"dataframe\">\n",
       "  <thead>\n",
       "    <tr style=\"text-align: right;\">\n",
       "      <th></th>\n",
       "      <th>INTERACTION_COUNTS</th>\n",
       "    </tr>\n",
       "  </thead>\n",
       "  <tbody>\n",
       "    <tr>\n",
       "      <th>count</th>\n",
       "      <td>5250.000000</td>\n",
       "    </tr>\n",
       "    <tr>\n",
       "      <th>mean</th>\n",
       "      <td>128.572190</td>\n",
       "    </tr>\n",
       "    <tr>\n",
       "      <th>std</th>\n",
       "      <td>33.408015</td>\n",
       "    </tr>\n",
       "    <tr>\n",
       "      <th>min</th>\n",
       "      <td>43.000000</td>\n",
       "    </tr>\n",
       "    <tr>\n",
       "      <th>25%</th>\n",
       "      <td>104.000000</td>\n",
       "    </tr>\n",
       "    <tr>\n",
       "      <th>50%</th>\n",
       "      <td>127.000000</td>\n",
       "    </tr>\n",
       "    <tr>\n",
       "      <th>75%</th>\n",
       "      <td>152.000000</td>\n",
       "    </tr>\n",
       "    <tr>\n",
       "      <th>max</th>\n",
       "      <td>260.000000</td>\n",
       "    </tr>\n",
       "  </tbody>\n",
       "</table>\n",
       "</div>"
      ],
      "text/plain": [
       "       INTERACTION_COUNTS\n",
       "count         5250.000000\n",
       "mean           128.572190\n",
       "std             33.408015\n",
       "min             43.000000\n",
       "25%            104.000000\n",
       "50%            127.000000\n",
       "75%            152.000000\n",
       "max            260.000000"
      ]
     },
     "execution_count": 3,
     "metadata": {},
     "output_type": "execute_result"
    }
   ],
   "source": [
    "pd.options.display.max_rows = 10\n",
    "user_activity_counts = its.groupby(\"USER_ID\").count().loc[:,[\"EVENT_TYPE\"]].rename(columns={\"EVENT_TYPE\":\"INTERACTION_COUNTS\"})\n",
    "user_activity_counts.describe()"
   ]
  },
  {
   "cell_type": "markdown",
   "id": "c558d28d-f7f9-4324-868c-55f7f634bea9",
   "metadata": {},
   "source": [
    "### 1.2 Interaction 숫자 당 유저 수"
   ]
  },
  {
   "cell_type": "code",
   "execution_count": 4,
   "id": "cade0f61-d423-4d32-8260-070d37193baa",
   "metadata": {},
   "outputs": [
    {
     "data": {
      "text/html": [
       "<div>\n",
       "<style scoped>\n",
       "    .dataframe tbody tr th:only-of-type {\n",
       "        vertical-align: middle;\n",
       "    }\n",
       "\n",
       "    .dataframe tbody tr th {\n",
       "        vertical-align: top;\n",
       "    }\n",
       "\n",
       "    .dataframe thead th {\n",
       "        text-align: right;\n",
       "    }\n",
       "</style>\n",
       "<table border=\"1\" class=\"dataframe\">\n",
       "  <thead>\n",
       "    <tr style=\"text-align: right;\">\n",
       "      <th></th>\n",
       "      <th>NUM_USERS</th>\n",
       "    </tr>\n",
       "    <tr>\n",
       "      <th>INTERACTION_COUNTS</th>\n",
       "      <th></th>\n",
       "    </tr>\n",
       "  </thead>\n",
       "  <tbody>\n",
       "    <tr>\n",
       "      <th>43</th>\n",
       "      <td>1</td>\n",
       "    </tr>\n",
       "    <tr>\n",
       "      <th>45</th>\n",
       "      <td>2</td>\n",
       "    </tr>\n",
       "    <tr>\n",
       "      <th>49</th>\n",
       "      <td>1</td>\n",
       "    </tr>\n",
       "    <tr>\n",
       "      <th>50</th>\n",
       "      <td>1</td>\n",
       "    </tr>\n",
       "    <tr>\n",
       "      <th>51</th>\n",
       "      <td>2</td>\n",
       "    </tr>\n",
       "    <tr>\n",
       "      <th>...</th>\n",
       "      <td>...</td>\n",
       "    </tr>\n",
       "    <tr>\n",
       "      <th>229</th>\n",
       "      <td>1</td>\n",
       "    </tr>\n",
       "    <tr>\n",
       "      <th>231</th>\n",
       "      <td>2</td>\n",
       "    </tr>\n",
       "    <tr>\n",
       "      <th>235</th>\n",
       "      <td>1</td>\n",
       "    </tr>\n",
       "    <tr>\n",
       "      <th>246</th>\n",
       "      <td>1</td>\n",
       "    </tr>\n",
       "    <tr>\n",
       "      <th>260</th>\n",
       "      <td>1</td>\n",
       "    </tr>\n",
       "  </tbody>\n",
       "</table>\n",
       "<p>184 rows × 1 columns</p>\n",
       "</div>"
      ],
      "text/plain": [
       "                    NUM_USERS\n",
       "INTERACTION_COUNTS           \n",
       "43                          1\n",
       "45                          2\n",
       "49                          1\n",
       "50                          1\n",
       "51                          2\n",
       "...                       ...\n",
       "229                         1\n",
       "231                         2\n",
       "235                         1\n",
       "246                         1\n",
       "260                         1\n",
       "\n",
       "[184 rows x 1 columns]"
      ]
     },
     "execution_count": 4,
     "metadata": {},
     "output_type": "execute_result"
    }
   ],
   "source": [
    "user_interaction_counts=user_activity_counts.reset_index()\n",
    "activities = user_interaction_counts.groupby('INTERACTION_COUNTS').count()\n",
    "activities.columns=['NUM_USERS']\n",
    "activities"
   ]
  },
  {
   "cell_type": "markdown",
   "id": "2e3c8f2d-2871-41f7-a411-93d0606932ab",
   "metadata": {},
   "source": [
    "### 1.3 전체 Interactions 횟수 분포 확인"
   ]
  },
  {
   "cell_type": "code",
   "execution_count": 5,
   "id": "05d088ba-fa6c-4b7a-927f-33c58de57572",
   "metadata": {},
   "outputs": [
    {
     "data": {
      "image/png": "[encoded data removed]",
      "text/plain": [
       "<Figure size 1500x500 with 1 Axes>"
      ]
     },
     "metadata": {},
     "output_type": "display_data"
    }
   ],
   "source": [
    "num_interactions = 260\n",
    "activities.loc[:num_interactions,:].plot(kind='bar', figsize=(15,5), ylim=(0,100))\n",
    "plt.title(\"activities users group\")\n",
    "\n",
    "plt.show()"
   ]
  },
  {
   "cell_type": "markdown",
   "id": "269c9abf-2c0c-464e-a629-b0b13d2917ee",
   "metadata": {},
   "source": [
    "일부 분포 (100번)까지의 분포를 확인 합니다."
   ]
  },
  {
   "cell_type": "code",
   "execution_count": 6,
   "id": "ccc8d1c9-b7d3-4d0d-8c90-9b86b6552e7e",
   "metadata": {},
   "outputs": [
    {
     "data": {
      "image/png": "[encoded data removed]",
      "text/plain": [
       "<Figure size 1500x500 with 1 Axes>"
      ]
     },
     "metadata": {},
     "output_type": "display_data"
    }
   ],
   "source": [
    "num_interactions = 100\n",
    "activities.loc[:num_interactions,:].plot(kind='bar', figsize=(15,5), ylim=(0,100))\n",
    "plt.title(\"activities users group\")\n",
    "\n",
    "plt.show()"
   ]
  },
  {
   "cell_type": "markdown",
   "id": "bd42f593-7f24-4c5c-ad4b-f5027ac916ed",
   "metadata": {},
   "source": [
    "## 2. 데이터 필드 선택 및 변형\n",
    "\n",
    "아래와 같은 순서로 데이터 필드를 선택하고 준비를 합니다.\n",
    "- 필수적인 데이타를 중심으로 선택\n",
    "- 퍼스널라이즈에서 요구하는 컬럼 이름으로 수정\n",
    "- 선택된 데이터 필드의 타입을 적당하게 변경\n",
    "\n",
    "### 참고\n",
    "- ECOMMERCE datasets and schemas\n",
    "    - https://docs.aws.amazon.com/personalize/latest/dg/ECOMMERCE-datasets-and-schemas.html"
   ]
  },
  {
   "cell_type": "markdown",
   "id": "09e350dd-6391-477a-abc4-e3208bd47c4c",
   "metadata": {},
   "source": [
    "### 2.1 Items 컬럼 조정"
   ]
  },
  {
   "cell_type": "code",
   "execution_count": 7,
   "id": "4865dbc2-f589-46c4-99a9-a8a291446df4",
   "metadata": {},
   "outputs": [
    {
     "data": {
      "text/plain": [
       "Index(['id', 'url', 'sk', 'name', 'category', 'style', 'description',\n",
       "       'aliases', 'price', 'image', 'gender_affinity', 'current_stock',\n",
       "       'featured'],\n",
       "      dtype='object')"
      ]
     },
     "execution_count": 7,
     "metadata": {},
     "output_type": "execute_result"
    }
   ],
   "source": [
    "items.columns"
   ]
  },
  {
   "cell_type": "code",
   "execution_count": 8,
   "id": "4c26330d-d479-4ffe-81f6-c903829ce9bc",
   "metadata": {},
   "outputs": [
    {
     "data": {
      "text/html": [
       "<div>\n",
       "<style scoped>\n",
       "    .dataframe tbody tr th:only-of-type {\n",
       "        vertical-align: middle;\n",
       "    }\n",
       "\n",
       "    .dataframe tbody tr th {\n",
       "        vertical-align: top;\n",
       "    }\n",
       "\n",
       "    .dataframe thead th {\n",
       "        text-align: right;\n",
       "    }\n",
       "</style>\n",
       "<table border=\"1\" class=\"dataframe\">\n",
       "  <thead>\n",
       "    <tr style=\"text-align: right;\">\n",
       "      <th></th>\n",
       "      <th>ITEM_ID</th>\n",
       "      <th>NAME</th>\n",
       "      <th>CATEGORY_L1</th>\n",
       "      <th>STYLE</th>\n",
       "      <th>PRODUCT_DESCRIPTION</th>\n",
       "      <th>PRICE</th>\n",
       "    </tr>\n",
       "  </thead>\n",
       "  <tbody>\n",
       "    <tr>\n",
       "      <th>0</th>\n",
       "      <td>e1669081-8ffc-4dec-97a6-e9176d7f6651</td>\n",
       "      <td>Sans Pareil Scarf</td>\n",
       "      <td>apparel</td>\n",
       "      <td>scarf</td>\n",
       "      <td>Sans pareil scarf for women</td>\n",
       "      <td>124.99</td>\n",
       "    </tr>\n",
       "    <tr>\n",
       "      <th>1</th>\n",
       "      <td>cfafd627-7d6b-43a5-be05-4c7937be417d</td>\n",
       "      <td>Chef Knife</td>\n",
       "      <td>housewares</td>\n",
       "      <td>kitchen</td>\n",
       "      <td>A must-have for your kitchen</td>\n",
       "      <td>57.99</td>\n",
       "    </tr>\n",
       "    <tr>\n",
       "      <th>2</th>\n",
       "      <td>6e6ad102-7510-4a02-b8ce-5a0cd6f431d1</td>\n",
       "      <td>Gainsboro Jacket</td>\n",
       "      <td>apparel</td>\n",
       "      <td>jacket</td>\n",
       "      <td>This gainsboro jacket for women is perfect for...</td>\n",
       "      <td>133.99</td>\n",
       "    </tr>\n",
       "    <tr>\n",
       "      <th>3</th>\n",
       "      <td>49b89871-5fe7-4898-b99d-953e15fb42b2</td>\n",
       "      <td>High Definition Speakers</td>\n",
       "      <td>electronics</td>\n",
       "      <td>speaker</td>\n",
       "      <td>High definition speakers to fill the house wit...</td>\n",
       "      <td>196.99</td>\n",
       "    </tr>\n",
       "    <tr>\n",
       "      <th>4</th>\n",
       "      <td>5cb18925-3a3c-4867-8f1c-46efd7eba067</td>\n",
       "      <td>Spiffy Sandals</td>\n",
       "      <td>footwear</td>\n",
       "      <td>sandals</td>\n",
       "      <td>This spiffy pair of sandals for woman is perfe...</td>\n",
       "      <td>9.99</td>\n",
       "    </tr>\n",
       "  </tbody>\n",
       "</table>\n",
       "</div>"
      ],
      "text/plain": [
       "                                ITEM_ID                      NAME  \\\n",
       "0  e1669081-8ffc-4dec-97a6-e9176d7f6651         Sans Pareil Scarf   \n",
       "1  cfafd627-7d6b-43a5-be05-4c7937be417d                Chef Knife   \n",
       "2  6e6ad102-7510-4a02-b8ce-5a0cd6f431d1          Gainsboro Jacket   \n",
       "3  49b89871-5fe7-4898-b99d-953e15fb42b2  High Definition Speakers   \n",
       "4  5cb18925-3a3c-4867-8f1c-46efd7eba067            Spiffy Sandals   \n",
       "\n",
       "   CATEGORY_L1    STYLE                                PRODUCT_DESCRIPTION  \\\n",
       "0      apparel    scarf                        Sans pareil scarf for women   \n",
       "1   housewares  kitchen                       A must-have for your kitchen   \n",
       "2      apparel   jacket  This gainsboro jacket for women is perfect for...   \n",
       "3  electronics  speaker  High definition speakers to fill the house wit...   \n",
       "4     footwear  sandals  This spiffy pair of sandals for woman is perfe...   \n",
       "\n",
       "    PRICE  \n",
       "0  124.99  \n",
       "1   57.99  \n",
       "2  133.99  \n",
       "3  196.99  \n",
       "4    9.99  "
      ]
     },
     "execution_count": 8,
     "metadata": {},
     "output_type": "execute_result"
    }
   ],
   "source": [
    "def item_data_selection(df, cols):\n",
    "    ldf = df[cols]\n",
    "    ldf = ldf.rename(columns={'id':'ITEM_ID',\n",
    "                              'name' : 'NAME',\n",
    "                              'category' :'CATEGORY_L1',\n",
    "                              'style' : 'STYLE',\n",
    "                              'description' : 'PRODUCT_DESCRIPTION',\n",
    "                              'price' : 'PRICE',\n",
    "                              \n",
    "                             })\n",
    "    \n",
    "    return ldf\n",
    "\n",
    "\n",
    "item_cols = ['id', 'name', 'category', 'style', 'description','price']\n",
    "\n",
    "\n",
    "items_df = item_data_selection(items, item_cols)    \n",
    "\n",
    "\n",
    "items_df.head()"
   ]
  },
  {
   "cell_type": "markdown",
   "id": "3b128cc3-d229-4362-9e6d-9dd5647d92dc",
   "metadata": {},
   "source": [
    "### 2.2 Users 컬럼 변경"
   ]
  },
  {
   "cell_type": "code",
   "execution_count": 9,
   "id": "50570f98-3a9f-4f64-9cf5-79e88fbf7fd8",
   "metadata": {
    "tags": []
   },
   "outputs": [
    {
     "data": {
      "text/plain": [
       "Index(['id', 'username', 'email', 'first_name', 'last_name', 'addresses',\n",
       "       'age', 'gender', 'persona', 'discount_persona', 'selectable_user'],\n",
       "      dtype='object')"
      ]
     },
     "execution_count": 9,
     "metadata": {},
     "output_type": "execute_result"
    }
   ],
   "source": [
    "users.columns"
   ]
  },
  {
   "cell_type": "code",
   "execution_count": 10,
   "id": "b44f133c-557c-4daf-aa51-8404d2745811",
   "metadata": {
    "tags": []
   },
   "outputs": [
    {
     "data": {
      "text/html": [
       "<div>\n",
       "<style scoped>\n",
       "    .dataframe tbody tr th:only-of-type {\n",
       "        vertical-align: middle;\n",
       "    }\n",
       "\n",
       "    .dataframe tbody tr th {\n",
       "        vertical-align: top;\n",
       "    }\n",
       "\n",
       "    .dataframe thead th {\n",
       "        text-align: right;\n",
       "    }\n",
       "</style>\n",
       "<table border=\"1\" class=\"dataframe\">\n",
       "  <thead>\n",
       "    <tr style=\"text-align: right;\">\n",
       "      <th></th>\n",
       "      <th>USER_ID</th>\n",
       "      <th>USER_NAME</th>\n",
       "      <th>AGE</th>\n",
       "      <th>GENDER</th>\n",
       "    </tr>\n",
       "  </thead>\n",
       "  <tbody>\n",
       "    <tr>\n",
       "      <th>0</th>\n",
       "      <td>1</td>\n",
       "      <td>user1</td>\n",
       "      <td>31</td>\n",
       "      <td>M</td>\n",
       "    </tr>\n",
       "    <tr>\n",
       "      <th>1</th>\n",
       "      <td>2</td>\n",
       "      <td>user2</td>\n",
       "      <td>58</td>\n",
       "      <td>F</td>\n",
       "    </tr>\n",
       "    <tr>\n",
       "      <th>2</th>\n",
       "      <td>3</td>\n",
       "      <td>user3</td>\n",
       "      <td>43</td>\n",
       "      <td>M</td>\n",
       "    </tr>\n",
       "    <tr>\n",
       "      <th>3</th>\n",
       "      <td>4</td>\n",
       "      <td>user4</td>\n",
       "      <td>38</td>\n",
       "      <td>M</td>\n",
       "    </tr>\n",
       "    <tr>\n",
       "      <th>4</th>\n",
       "      <td>5</td>\n",
       "      <td>user5</td>\n",
       "      <td>24</td>\n",
       "      <td>M</td>\n",
       "    </tr>\n",
       "  </tbody>\n",
       "</table>\n",
       "</div>"
      ],
      "text/plain": [
       "   USER_ID USER_NAME  AGE GENDER\n",
       "0        1     user1   31      M\n",
       "1        2     user2   58      F\n",
       "2        3     user3   43      M\n",
       "3        4     user4   38      M\n",
       "4        5     user5   24      M"
      ]
     },
     "execution_count": 10,
     "metadata": {},
     "output_type": "execute_result"
    }
   ],
   "source": [
    "def user_data_selection(df, cols):\n",
    "    ldf = df[cols]\n",
    "    ldf = ldf.rename(columns={'id':'USER_ID',\n",
    "                              'username' : 'USER_NAME',\n",
    "                              'age' :'AGE',\n",
    "                              'gender' : 'GENDER',                              \n",
    "                             })\n",
    "    \n",
    "    return ldf\n",
    "\n",
    "user_cols = ['id', 'username', 'age', 'gender']\n",
    "\n",
    "\n",
    "users_df = user_data_selection(users, user_cols)    \n",
    "users_df.head()"
   ]
  },
  {
   "cell_type": "markdown",
   "id": "01865888-b91b-47d1-ab7f-41d5827ad1bf",
   "metadata": {},
   "source": [
    "### 2.3 Users 데이터 타입 변경"
   ]
  },
  {
   "cell_type": "code",
   "execution_count": 11,
   "id": "ece1516d-0c75-4ee4-82ae-88bd73855f7d",
   "metadata": {},
   "outputs": [
    {
     "name": "stdout",
     "output_type": "stream",
     "text": [
      "<class 'pandas.core.frame.DataFrame'>\n",
      "RangeIndex: 5250 entries, 0 to 5249\n",
      "Data columns (total 4 columns):\n",
      " #   Column     Non-Null Count  Dtype \n",
      "---  ------     --------------  ----- \n",
      " 0   USER_ID    5250 non-null   int64 \n",
      " 1   USER_NAME  5250 non-null   object\n",
      " 2   AGE        5250 non-null   int64 \n",
      " 3   GENDER     5250 non-null   object\n",
      "dtypes: int64(2), object(2)\n",
      "memory usage: 164.2+ KB\n"
     ]
    }
   ],
   "source": [
    "users_df.info()"
   ]
  },
  {
   "cell_type": "code",
   "execution_count": 12,
   "id": "6ff8e8d8-d3d8-4ffc-b427-346245676fd9",
   "metadata": {},
   "outputs": [],
   "source": [
    "def change_data_type(df, col, target_type):\n",
    "    ldf = df.copy()\n",
    "    ldf[col] = ldf[col].astype(target_type)\n",
    "    \n",
    "    return ldf"
   ]
  },
  {
   "cell_type": "code",
   "execution_count": 13,
   "id": "7a1db98e-3561-442d-9041-fe4afb15fdba",
   "metadata": {},
   "outputs": [
    {
     "name": "stdout",
     "output_type": "stream",
     "text": [
      "<class 'pandas.core.frame.DataFrame'>\n",
      "RangeIndex: 5250 entries, 0 to 5249\n",
      "Data columns (total 4 columns):\n",
      " #   Column     Non-Null Count  Dtype \n",
      "---  ------     --------------  ----- \n",
      " 0   USER_ID    5250 non-null   object\n",
      " 1   USER_NAME  5250 non-null   object\n",
      " 2   AGE        5250 non-null   int64 \n",
      " 3   GENDER     5250 non-null   object\n",
      "dtypes: int64(1), object(3)\n",
      "memory usage: 164.2+ KB\n"
     ]
    }
   ],
   "source": [
    "users_df = change_data_type(users_df, col='USER_ID', target_type='object')\n",
    "users_df.info()"
   ]
  },
  {
   "cell_type": "markdown",
   "id": "c0048535-d0e0-443d-b33d-28ad52231545",
   "metadata": {},
   "source": [
    "### 2.4 Interactions 컬럼 변경"
   ]
  },
  {
   "cell_type": "code",
   "execution_count": 14,
   "id": "4dccd9cd-3f5c-4323-a179-213b499bf52b",
   "metadata": {},
   "outputs": [
    {
     "data": {
      "text/plain": [
       "Index(['ITEM_ID', 'USER_ID', 'EVENT_TYPE', 'TIMESTAMP', 'DISCOUNT'], dtype='object')"
      ]
     },
     "execution_count": 14,
     "metadata": {},
     "output_type": "execute_result"
    }
   ],
   "source": [
    "its.columns"
   ]
  },
  {
   "cell_type": "code",
   "execution_count": 15,
   "id": "6d37a361-66d9-4e16-bfc7-d37a9ca74672",
   "metadata": {},
   "outputs": [
    {
     "data": {
      "text/html": [
       "<div>\n",
       "<style scoped>\n",
       "    .dataframe tbody tr th:only-of-type {\n",
       "        vertical-align: middle;\n",
       "    }\n",
       "\n",
       "    .dataframe tbody tr th {\n",
       "        vertical-align: top;\n",
       "    }\n",
       "\n",
       "    .dataframe thead th {\n",
       "        text-align: right;\n",
       "    }\n",
       "</style>\n",
       "<table border=\"1\" class=\"dataframe\">\n",
       "  <thead>\n",
       "    <tr style=\"text-align: right;\">\n",
       "      <th></th>\n",
       "      <th>ITEM_ID</th>\n",
       "      <th>USER_ID</th>\n",
       "      <th>EVENT_TYPE</th>\n",
       "      <th>TIMESTAMP</th>\n",
       "    </tr>\n",
       "  </thead>\n",
       "  <tbody>\n",
       "    <tr>\n",
       "      <th>0</th>\n",
       "      <td>26bb732f-9159-432f-91ef-bad14fedd298</td>\n",
       "      <td>3156</td>\n",
       "      <td>ProductViewed</td>\n",
       "      <td>1591803788</td>\n",
       "    </tr>\n",
       "    <tr>\n",
       "      <th>1</th>\n",
       "      <td>26bb732f-9159-432f-91ef-bad14fedd298</td>\n",
       "      <td>3156</td>\n",
       "      <td>ProductViewed</td>\n",
       "      <td>1591803788</td>\n",
       "    </tr>\n",
       "    <tr>\n",
       "      <th>2</th>\n",
       "      <td>dc073623-4b95-47d9-93cb-0171c20baa04</td>\n",
       "      <td>332</td>\n",
       "      <td>ProductViewed</td>\n",
       "      <td>1591803812</td>\n",
       "    </tr>\n",
       "    <tr>\n",
       "      <th>3</th>\n",
       "      <td>dc073623-4b95-47d9-93cb-0171c20baa04</td>\n",
       "      <td>332</td>\n",
       "      <td>ProductViewed</td>\n",
       "      <td>1591803812</td>\n",
       "    </tr>\n",
       "    <tr>\n",
       "      <th>4</th>\n",
       "      <td>31efcfea-47d6-43f3-97f7-2704a5397e22</td>\n",
       "      <td>3981</td>\n",
       "      <td>ProductViewed</td>\n",
       "      <td>1591803830</td>\n",
       "    </tr>\n",
       "  </tbody>\n",
       "</table>\n",
       "</div>"
      ],
      "text/plain": [
       "                                ITEM_ID  USER_ID     EVENT_TYPE   TIMESTAMP\n",
       "0  26bb732f-9159-432f-91ef-bad14fedd298     3156  ProductViewed  1591803788\n",
       "1  26bb732f-9159-432f-91ef-bad14fedd298     3156  ProductViewed  1591803788\n",
       "2  dc073623-4b95-47d9-93cb-0171c20baa04      332  ProductViewed  1591803812\n",
       "3  dc073623-4b95-47d9-93cb-0171c20baa04      332  ProductViewed  1591803812\n",
       "4  31efcfea-47d6-43f3-97f7-2704a5397e22     3981  ProductViewed  1591803830"
      ]
     },
     "execution_count": 15,
     "metadata": {},
     "output_type": "execute_result"
    }
   ],
   "source": [
    "def interactions_data_selection(df, cols):\n",
    "    ldf = df[cols]\n",
    "    ldf = ldf.rename(columns={'id':'USER_ID',\n",
    "                              'username' : 'USER_NAME',\n",
    "                              'age' :'AGE',\n",
    "                              'gender' : 'GENDER',                              \n",
    "                             })\n",
    "    \n",
    "    return ldf\n",
    "\n",
    "interactions_cols = ['ITEM_ID', 'USER_ID', 'EVENT_TYPE', 'TIMESTAMP']\n",
    "\n",
    "\n",
    "full_interactions_df = interactions_data_selection(its, interactions_cols)    \n",
    "full_interactions_df.head()"
   ]
  },
  {
   "cell_type": "markdown",
   "id": "6b21b704-1568-41ab-9337-74edf8541c93",
   "metadata": {},
   "source": [
    "### 2.5 Interactions의 EVENT_TYPE의 두가지 선택\n",
    "\n",
    "- 우리는 여기서 \"ProductViewed\" , \"OrderCompleted\" 를 선택하고 각각 이름을 \"View\" , \"Purchase\" 로 바꿉니다."
   ]
  },
  {
   "cell_type": "code",
   "execution_count": 16,
   "id": "62427622-3527-4043-9038-5aabc61d742f",
   "metadata": {},
   "outputs": [
    {
     "data": {
      "text/plain": [
       "ProductViewed      581900\n",
       "ProductAdded        46552\n",
       "CartViewed          29095\n",
       "CheckoutStarted     11638\n",
       "OrderCompleted       5819\n",
       "Name: EVENT_TYPE, dtype: int64"
      ]
     },
     "execution_count": 16,
     "metadata": {},
     "output_type": "execute_result"
    }
   ],
   "source": [
    "full_interactions_df.EVENT_TYPE.value_counts()"
   ]
  },
  {
   "cell_type": "code",
   "execution_count": 17,
   "id": "a11595c3-b9d1-4e04-bef0-3c76650b1423",
   "metadata": {},
   "outputs": [
    {
     "name": "stderr",
     "output_type": "stream",
     "text": [
      "/tmp/ipykernel_18642/3585745471.py:3: SettingWithCopyWarning: \n",
      "A value is trying to be set on a copy of a slice from a DataFrame.\n",
      "Try using .loc[row_indexer,col_indexer] = value instead\n",
      "\n",
      "See the caveats in the documentation: https://pandas.pydata.org/pandas-docs/stable/user_guide/indexing.html#returning-a-view-versus-a-copy\n",
      "  ldf['EVENT_TYPE'] = ldf['EVENT_TYPE'].replace(['ProductViewed'],'View')\n",
      "/tmp/ipykernel_18642/3585745471.py:4: SettingWithCopyWarning: \n",
      "A value is trying to be set on a copy of a slice from a DataFrame.\n",
      "Try using .loc[row_indexer,col_indexer] = value instead\n",
      "\n",
      "See the caveats in the documentation: https://pandas.pydata.org/pandas-docs/stable/user_guide/indexing.html#returning-a-view-versus-a-copy\n",
      "  ldf['EVENT_TYPE'] = ldf['EVENT_TYPE'].replace(['OrderCompleted'],'Purchase')\n"
     ]
    },
    {
     "data": {
      "text/html": [
       "<div>\n",
       "<style scoped>\n",
       "    .dataframe tbody tr th:only-of-type {\n",
       "        vertical-align: middle;\n",
       "    }\n",
       "\n",
       "    .dataframe tbody tr th {\n",
       "        vertical-align: top;\n",
       "    }\n",
       "\n",
       "    .dataframe thead th {\n",
       "        text-align: right;\n",
       "    }\n",
       "</style>\n",
       "<table border=\"1\" class=\"dataframe\">\n",
       "  <thead>\n",
       "    <tr style=\"text-align: right;\">\n",
       "      <th></th>\n",
       "      <th>ITEM_ID</th>\n",
       "      <th>USER_ID</th>\n",
       "      <th>EVENT_TYPE</th>\n",
       "      <th>TIMESTAMP</th>\n",
       "    </tr>\n",
       "  </thead>\n",
       "  <tbody>\n",
       "    <tr>\n",
       "      <th>0</th>\n",
       "      <td>26bb732f-9159-432f-91ef-bad14fedd298</td>\n",
       "      <td>3156</td>\n",
       "      <td>View</td>\n",
       "      <td>1591803788</td>\n",
       "    </tr>\n",
       "    <tr>\n",
       "      <th>1</th>\n",
       "      <td>26bb732f-9159-432f-91ef-bad14fedd298</td>\n",
       "      <td>3156</td>\n",
       "      <td>View</td>\n",
       "      <td>1591803788</td>\n",
       "    </tr>\n",
       "    <tr>\n",
       "      <th>2</th>\n",
       "      <td>dc073623-4b95-47d9-93cb-0171c20baa04</td>\n",
       "      <td>332</td>\n",
       "      <td>View</td>\n",
       "      <td>1591803812</td>\n",
       "    </tr>\n",
       "    <tr>\n",
       "      <th>3</th>\n",
       "      <td>dc073623-4b95-47d9-93cb-0171c20baa04</td>\n",
       "      <td>332</td>\n",
       "      <td>View</td>\n",
       "      <td>1591803812</td>\n",
       "    </tr>\n",
       "    <tr>\n",
       "      <th>4</th>\n",
       "      <td>31efcfea-47d6-43f3-97f7-2704a5397e22</td>\n",
       "      <td>3981</td>\n",
       "      <td>View</td>\n",
       "      <td>1591803830</td>\n",
       "    </tr>\n",
       "    <tr>\n",
       "      <th>...</th>\n",
       "      <td>...</td>\n",
       "      <td>...</td>\n",
       "      <td>...</td>\n",
       "      <td>...</td>\n",
       "    </tr>\n",
       "    <tr>\n",
       "      <th>674996</th>\n",
       "      <td>94a0ad41-8b19-4ecb-b0d7-33704e2d4421</td>\n",
       "      <td>4046</td>\n",
       "      <td>View</td>\n",
       "      <td>1598204625</td>\n",
       "    </tr>\n",
       "    <tr>\n",
       "      <th>674997</th>\n",
       "      <td>f9c470b0-152b-4776-893a-67ffc4064675</td>\n",
       "      <td>2627</td>\n",
       "      <td>View</td>\n",
       "      <td>1598204657</td>\n",
       "    </tr>\n",
       "    <tr>\n",
       "      <th>674998</th>\n",
       "      <td>1def0093-96b2-4cc4-a022-071941f75b92</td>\n",
       "      <td>3538</td>\n",
       "      <td>View</td>\n",
       "      <td>1598204664</td>\n",
       "    </tr>\n",
       "    <tr>\n",
       "      <th>674999</th>\n",
       "      <td>9bc87696-e9bd-4241-86b0-234e054a607b</td>\n",
       "      <td>5165</td>\n",
       "      <td>View</td>\n",
       "      <td>1598204678</td>\n",
       "    </tr>\n",
       "    <tr>\n",
       "      <th>675003</th>\n",
       "      <td>9bc87696-e9bd-4241-86b0-234e054a607b</td>\n",
       "      <td>5165</td>\n",
       "      <td>Purchase</td>\n",
       "      <td>1598204689</td>\n",
       "    </tr>\n",
       "  </tbody>\n",
       "</table>\n",
       "<p>587719 rows × 4 columns</p>\n",
       "</div>"
      ],
      "text/plain": [
       "                                     ITEM_ID  USER_ID EVENT_TYPE   TIMESTAMP\n",
       "0       26bb732f-9159-432f-91ef-bad14fedd298     3156       View  1591803788\n",
       "1       26bb732f-9159-432f-91ef-bad14fedd298     3156       View  1591803788\n",
       "2       dc073623-4b95-47d9-93cb-0171c20baa04      332       View  1591803812\n",
       "3       dc073623-4b95-47d9-93cb-0171c20baa04      332       View  1591803812\n",
       "4       31efcfea-47d6-43f3-97f7-2704a5397e22     3981       View  1591803830\n",
       "...                                      ...      ...        ...         ...\n",
       "674996  94a0ad41-8b19-4ecb-b0d7-33704e2d4421     4046       View  1598204625\n",
       "674997  f9c470b0-152b-4776-893a-67ffc4064675     2627       View  1598204657\n",
       "674998  1def0093-96b2-4cc4-a022-071941f75b92     3538       View  1598204664\n",
       "674999  9bc87696-e9bd-4241-86b0-234e054a607b     5165       View  1598204678\n",
       "675003  9bc87696-e9bd-4241-86b0-234e054a607b     5165   Purchase  1598204689\n",
       "\n",
       "[587719 rows x 4 columns]"
      ]
     },
     "execution_count": 17,
     "metadata": {},
     "output_type": "execute_result"
    }
   ],
   "source": [
    "def filter_interactions_data(df, kinds_event_type):\n",
    "    ldf = df[df['EVENT_TYPE'].isin(kinds_event_type)]\n",
    "    ldf['EVENT_TYPE'] = ldf['EVENT_TYPE'].replace(['ProductViewed'],'View')    \n",
    "    ldf['EVENT_TYPE'] = ldf['EVENT_TYPE'].replace(['OrderCompleted'],'Purchase')        \n",
    "    \n",
    "    return ldf\n",
    "\n",
    "select_event_types = ['ProductViewed','OrderCompleted']\n",
    "interactions_df = filter_interactions_data(full_interactions_df, select_event_types)\n",
    "interactions_df"
   ]
  },
  {
   "cell_type": "markdown",
   "id": "076605b0-dd2e-44ac-9d45-44350f11a875",
   "metadata": {},
   "source": [
    "### 2.6 Interaction 데이터 타입 변경"
   ]
  },
  {
   "cell_type": "code",
   "execution_count": 18,
   "id": "adc90ce0-5a55-4709-8532-26adf8c20719",
   "metadata": {},
   "outputs": [
    {
     "name": "stdout",
     "output_type": "stream",
     "text": [
      "<class 'pandas.core.frame.DataFrame'>\n",
      "Int64Index: 587719 entries, 0 to 675003\n",
      "Data columns (total 4 columns):\n",
      " #   Column      Non-Null Count   Dtype \n",
      "---  ------      --------------   ----- \n",
      " 0   ITEM_ID     587719 non-null  object\n",
      " 1   USER_ID     587719 non-null  int64 \n",
      " 2   EVENT_TYPE  587719 non-null  object\n",
      " 3   TIMESTAMP   587719 non-null  int64 \n",
      "dtypes: int64(2), object(2)\n",
      "memory usage: 22.4+ MB\n"
     ]
    }
   ],
   "source": [
    "interactions_df.info()"
   ]
  },
  {
   "cell_type": "code",
   "execution_count": 19,
   "id": "8069bcc1-d168-4c98-953e-7a43c9d4ea01",
   "metadata": {},
   "outputs": [
    {
     "name": "stdout",
     "output_type": "stream",
     "text": [
      "<class 'pandas.core.frame.DataFrame'>\n",
      "Int64Index: 587719 entries, 0 to 675003\n",
      "Data columns (total 4 columns):\n",
      " #   Column      Non-Null Count   Dtype \n",
      "---  ------      --------------   ----- \n",
      " 0   ITEM_ID     587719 non-null  object\n",
      " 1   USER_ID     587719 non-null  object\n",
      " 2   EVENT_TYPE  587719 non-null  object\n",
      " 3   TIMESTAMP   587719 non-null  int64 \n",
      "dtypes: int64(1), object(3)\n",
      "memory usage: 22.4+ MB\n"
     ]
    }
   ],
   "source": [
    "interactions_df = change_data_type(interactions_df, col='USER_ID', target_type='object')\n",
    "interactions_df.info()"
   ]
  },
  {
   "cell_type": "code",
   "execution_count": 20,
   "id": "432e6617-eddd-4bd5-9c3e-e28d990e9ead",
   "metadata": {},
   "outputs": [
    {
     "data": {
      "text/html": [
       "<div>\n",
       "<style scoped>\n",
       "    .dataframe tbody tr th:only-of-type {\n",
       "        vertical-align: middle;\n",
       "    }\n",
       "\n",
       "    .dataframe tbody tr th {\n",
       "        vertical-align: top;\n",
       "    }\n",
       "\n",
       "    .dataframe thead th {\n",
       "        text-align: right;\n",
       "    }\n",
       "</style>\n",
       "<table border=\"1\" class=\"dataframe\">\n",
       "  <thead>\n",
       "    <tr style=\"text-align: right;\">\n",
       "      <th></th>\n",
       "      <th>ITEM_ID</th>\n",
       "      <th>USER_ID</th>\n",
       "      <th>EVENT_TYPE</th>\n",
       "      <th>TIMESTAMP</th>\n",
       "    </tr>\n",
       "  </thead>\n",
       "  <tbody>\n",
       "    <tr>\n",
       "      <th>0</th>\n",
       "      <td>26bb732f-9159-432f-91ef-bad14fedd298</td>\n",
       "      <td>3156</td>\n",
       "      <td>View</td>\n",
       "      <td>1591803788</td>\n",
       "    </tr>\n",
       "    <tr>\n",
       "      <th>1</th>\n",
       "      <td>26bb732f-9159-432f-91ef-bad14fedd298</td>\n",
       "      <td>3156</td>\n",
       "      <td>View</td>\n",
       "      <td>1591803788</td>\n",
       "    </tr>\n",
       "    <tr>\n",
       "      <th>2</th>\n",
       "      <td>dc073623-4b95-47d9-93cb-0171c20baa04</td>\n",
       "      <td>332</td>\n",
       "      <td>View</td>\n",
       "      <td>1591803812</td>\n",
       "    </tr>\n",
       "    <tr>\n",
       "      <th>3</th>\n",
       "      <td>dc073623-4b95-47d9-93cb-0171c20baa04</td>\n",
       "      <td>332</td>\n",
       "      <td>View</td>\n",
       "      <td>1591803812</td>\n",
       "    </tr>\n",
       "    <tr>\n",
       "      <th>4</th>\n",
       "      <td>31efcfea-47d6-43f3-97f7-2704a5397e22</td>\n",
       "      <td>3981</td>\n",
       "      <td>View</td>\n",
       "      <td>1591803830</td>\n",
       "    </tr>\n",
       "    <tr>\n",
       "      <th>...</th>\n",
       "      <td>...</td>\n",
       "      <td>...</td>\n",
       "      <td>...</td>\n",
       "      <td>...</td>\n",
       "    </tr>\n",
       "    <tr>\n",
       "      <th>674996</th>\n",
       "      <td>94a0ad41-8b19-4ecb-b0d7-33704e2d4421</td>\n",
       "      <td>4046</td>\n",
       "      <td>View</td>\n",
       "      <td>1598204625</td>\n",
       "    </tr>\n",
       "    <tr>\n",
       "      <th>674997</th>\n",
       "      <td>f9c470b0-152b-4776-893a-67ffc4064675</td>\n",
       "      <td>2627</td>\n",
       "      <td>View</td>\n",
       "      <td>1598204657</td>\n",
       "    </tr>\n",
       "    <tr>\n",
       "      <th>674998</th>\n",
       "      <td>1def0093-96b2-4cc4-a022-071941f75b92</td>\n",
       "      <td>3538</td>\n",
       "      <td>View</td>\n",
       "      <td>1598204664</td>\n",
       "    </tr>\n",
       "    <tr>\n",
       "      <th>674999</th>\n",
       "      <td>9bc87696-e9bd-4241-86b0-234e054a607b</td>\n",
       "      <td>5165</td>\n",
       "      <td>View</td>\n",
       "      <td>1598204678</td>\n",
       "    </tr>\n",
       "    <tr>\n",
       "      <th>675003</th>\n",
       "      <td>9bc87696-e9bd-4241-86b0-234e054a607b</td>\n",
       "      <td>5165</td>\n",
       "      <td>Purchase</td>\n",
       "      <td>1598204689</td>\n",
       "    </tr>\n",
       "  </tbody>\n",
       "</table>\n",
       "<p>587719 rows × 4 columns</p>\n",
       "</div>"
      ],
      "text/plain": [
       "                                     ITEM_ID USER_ID EVENT_TYPE   TIMESTAMP\n",
       "0       26bb732f-9159-432f-91ef-bad14fedd298    3156       View  1591803788\n",
       "1       26bb732f-9159-432f-91ef-bad14fedd298    3156       View  1591803788\n",
       "2       dc073623-4b95-47d9-93cb-0171c20baa04     332       View  1591803812\n",
       "3       dc073623-4b95-47d9-93cb-0171c20baa04     332       View  1591803812\n",
       "4       31efcfea-47d6-43f3-97f7-2704a5397e22    3981       View  1591803830\n",
       "...                                      ...     ...        ...         ...\n",
       "674996  94a0ad41-8b19-4ecb-b0d7-33704e2d4421    4046       View  1598204625\n",
       "674997  f9c470b0-152b-4776-893a-67ffc4064675    2627       View  1598204657\n",
       "674998  1def0093-96b2-4cc4-a022-071941f75b92    3538       View  1598204664\n",
       "674999  9bc87696-e9bd-4241-86b0-234e054a607b    5165       View  1598204678\n",
       "675003  9bc87696-e9bd-4241-86b0-234e054a607b    5165   Purchase  1598204689\n",
       "\n",
       "[587719 rows x 4 columns]"
      ]
     },
     "execution_count": 20,
     "metadata": {},
     "output_type": "execute_result"
    }
   ],
   "source": [
    "interactions_df"
   ]
  },
  {
   "cell_type": "markdown",
   "id": "8e157f31-f3fd-4746-bceb-4ff69dd542b9",
   "metadata": {
    "tags": []
   },
   "source": [
    "## 3. 변수 저장\n",
    "\n",
    "다음 노트북에서 활용할 변수를 저장 합니다."
   ]
  },
  {
   "cell_type": "code",
   "execution_count": 21,
   "id": "dfb8faf0-bfa2-44dc-8409-682eee344a8d",
   "metadata": {},
   "outputs": [
    {
     "name": "stdout",
     "output_type": "stream",
     "text": [
      "Stored 'interactions_df' (DataFrame)\n",
      "Stored 'users_df' (DataFrame)\n",
      "Stored 'items_df' (DataFrame)\n"
     ]
    }
   ],
   "source": [
    "%store interactions_df\n",
    "%store users_df\n",
    "%store items_df"
   ]
  }
 ],
 "metadata": {
  "kernelspec": {
   "display_name": "conda_python3",
   "language": "python",
   "name": "conda_python3"
  },
  "language_info": {
   "codemirror_mode": {
    "name": "ipython",
    "version": 3
   },
   "file_extension": ".py",
   "mimetype": "text/x-python",
   "name": "python",
   "nbconvert_exporter": "python",
   "pygments_lexer": "ipython3",
   "version": "3.10.6"
  }
 },
 "nbformat": 4,
 "nbformat_minor": 5
}
