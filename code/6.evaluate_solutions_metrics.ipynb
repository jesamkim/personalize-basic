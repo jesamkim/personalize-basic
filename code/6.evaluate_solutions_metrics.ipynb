{
 "cells": [
  {
   "cell_type": "markdown",
   "id": "88389bab-5e71-40ce-be71-f37a28eba7d5",
   "metadata": {},
   "source": [
    "# [Module 6] Personalize 솔루션 버전 평가 지표 확인\n",
    "\n",
    "이 노트북은 아래와 같은 작업을 합니다.\n",
    "- 솔루션 버전으로부터 성능 지표 구하기\n",
    "- 성능 지표 분석"
   ]
  },
  {
   "cell_type": "markdown",
   "id": "ea6bfb3c-3706-42d1-a534-b66cfadd3118",
   "metadata": {},
   "source": [
    "## 0. 환경 설정"
   ]
  },
  {
   "cell_type": "code",
   "execution_count": 1,
   "id": "749a4870-9b26-4a25-8f22-5ad50561887a",
   "metadata": {},
   "outputs": [],
   "source": [
    "# Imports\n",
    "import boto3\n",
    "import json\n",
    "import numpy as np\n",
    "import pandas as pd\n",
    "import time"
   ]
  },
  {
   "cell_type": "code",
   "execution_count": 2,
   "id": "69a8e35c-789c-42b1-ac36-421f3ca66c38",
   "metadata": {},
   "outputs": [],
   "source": [
    "# Configure the SDK to Personalize:\n",
    "personalize = boto3.client('personalize')"
   ]
  },
  {
   "cell_type": "markdown",
   "id": "5dbe24ce-c5b1-42a2-9aec-db844cc4421f",
   "metadata": {},
   "source": [
    "아래 코드 셀은 이전 notebook에서 저장했던 공유 변수들을 불러옵니다."
   ]
  },
  {
   "cell_type": "code",
   "execution_count": 3,
   "id": "e30ef6b3-6ba3-41cc-b73a-51af84d4dd6f",
   "metadata": {},
   "outputs": [],
   "source": [
    "%store -r"
   ]
  },
  {
   "cell_type": "markdown",
   "id": "6363e7dc-d27d-4943-9382-8130070d8d49",
   "metadata": {},
   "source": [
    "## 솔루션 버전 평가를 위한 학습 데이터 분리 방법"
   ]
  },
  {
   "cell_type": "markdown",
   "id": "febcda04-e451-4a42-8fce-c1ebd21b1530",
   "metadata": {},
   "source": [
    "이번 파트에서는 Amazon Personalize에서 기본으로 제공하는 솔루션에 대한 평가 지표를 확인해 봅니다. Amazon Personalize에서는 평가 지표를 생성하기 위해 약 랜덤으로 10% 사용자의 interaction data를 테스트 용으로 활용합니다.\n",
    "\n",
    "아래 이미지는 Amazon Personalize가 데이터를 분리하는 방법을 보여줍니다. 사용자가 10 명이고 각각 10 개의 상호 작용이있는 경우 (여기에서 원은 Interaction data를 나타냄) 타임 스탬프를 기준으로 가장 오래된 것부터 최신 것까지 나열된 것입니다. Amazon Personalize는 사용자의 90 % (파란색 원)의 모든 Interaction 데이터를 사용하여 솔루션 버전을 훈련시키고 나머지 10 %는 평가를 위해 사용합니다. 나머지 10 %의 각 사용자에 대해 Interaction data (녹색 원)의 90 %가 훈련 된 모델의 입력값으로 사용됩니다. 데이터의 나머지 10 % (주황색 원)는 모델에서 생성 된 추천 결과물과 비교되고 평가 지표를 계산하는 데 사용됩니다."
   ]
  },
  {
   "cell_type": "markdown",
   "id": "7f613fa8-dc4a-4a5f-a0bd-224739fb916d",
   "metadata": {},
   "source": [
    "![personalize metrics](img/personalize_metrics.png)"
   ]
  },
  {
   "cell_type": "markdown",
   "id": "d4c3ce8e-96ac-4fac-80ab-ce88b5b01c66",
   "metadata": {},
   "source": [
    "### 솔루션 버전의 성능 지표 구하기"
   ]
  },
  {
   "cell_type": "code",
   "execution_count": 4,
   "id": "4ec360f1-c843-43ec-a44d-4450245db6d7",
   "metadata": {},
   "outputs": [],
   "source": [
    "metrics=[]\n",
    "\n",
    "def build_metric_matrix(solution,response):\n",
    "    metrics.append([solution,\n",
    "                response['metrics']['coverage'],\n",
    "                response['metrics']['mean_reciprocal_rank_at_25'],\n",
    "                response['metrics']['normalized_discounted_cumulative_gain_at_5'],\n",
    "                response['metrics']['normalized_discounted_cumulative_gain_at_10'],\n",
    "                response['metrics']['normalized_discounted_cumulative_gain_at_25'],\n",
    "                response['metrics']['precision_at_5'],\n",
    "                response['metrics']['precision_at_10'],\n",
    "                response['metrics']['precision_at_25']])"
   ]
  },
  {
   "cell_type": "markdown",
   "id": "58880fc8-e9ac-4573-85cb-0873bd986466",
   "metadata": {},
   "source": [
    "### Metrics : USER-PERSONALIZATION"
   ]
  },
  {
   "cell_type": "code",
   "execution_count": 5,
   "id": "5ccf21a5-c3b4-402b-928a-34f76f9a14f7",
   "metadata": {},
   "outputs": [
    {
     "name": "stdout",
     "output_type": "stream",
     "text": [
      "{\n",
      "  \"solutionVersionArn\": \"arn:aws:personalize:us-east-1:376278017302:solution/RetailDemo-user-personalization/02b4a057\",\n",
      "  \"metrics\": {\n",
      "    \"coverage\": 0.8852,\n",
      "    \"mean_reciprocal_rank_at_25\": 0.4206,\n",
      "    \"normalized_discounted_cumulative_gain_at_10\": 0.4368,\n",
      "    \"normalized_discounted_cumulative_gain_at_25\": 0.4998,\n",
      "    \"normalized_discounted_cumulative_gain_at_5\": 0.3725,\n",
      "    \"precision_at_10\": 0.1317,\n",
      "    \"precision_at_25\": 0.072,\n",
      "    \"precision_at_5\": 0.1913\n",
      "  },\n",
      "  \"ResponseMetadata\": {\n",
      "    \"RequestId\": \"e77d745b-ee1c-4156-aef2-88d2231147cc\",\n",
      "    \"HTTPStatusCode\": 200,\n",
      "    \"HTTPHeaders\": {\n",
      "      \"date\": \"Tue, 20 Jun 2023 11:15:11 GMT\",\n",
      "      \"content-type\": \"application/x-amz-json-1.1\",\n",
      "      \"content-length\": \"414\",\n",
      "      \"connection\": \"keep-alive\",\n",
      "      \"x-amzn-requestid\": \"e77d745b-ee1c-4156-aef2-88d2231147cc\"\n",
      "    },\n",
      "    \"RetryAttempts\": 0\n",
      "  }\n",
      "}\n"
     ]
    }
   ],
   "source": [
    "get_solution_metrics_response = personalize.get_solution_metrics(\n",
    "    solutionVersionArn = base_solution_version_arn\n",
    ")\n",
    "\n",
    "print(json.dumps(get_solution_metrics_response, indent=2))\n",
    "\n",
    "build_metric_matrix('user_personalization',get_solution_metrics_response)"
   ]
  },
  {
   "cell_type": "markdown",
   "id": "6f8cc552-9b58-4ea0-bda2-abae586d3574",
   "metadata": {},
   "source": [
    "## Summary Metrics\n",
    "\n",
    "#### 1. 솔루션 평가 지표 정의\n",
    "[솔루션 평가 지표 정의](https://docs.aws.amazon.com/personalize/latest/dg/working-with-training-metrics.html)\n",
    "는 개발자 문서의 링크 참조 바랍니다. 또한 이 링크 [솔루션 평가 정의 예제](http://francescopochetti.com/recommend-expedia-hotels-with-amazon-personalize-the-magic-of-hierarchical-rnns/) 의 페이지 맨 아래 쪽을 보시면 조금 더 직관적인 그림을 보실 수 있습니다.\n",
    " <br>\n",
    "또한 reciprocal_rank_at_5, normalized_discounted_cumulative_gain_at_5,precision_at_5 의 예제는 아래와 같습니다. \n",
    "* Exmaple\n",
    "    * 5 개의 추천리스트를 제공했고, 이 중에 2번째와 5번째가 실제 데이타와 일치 했다고 하면, 쉽게 이렇게 [0,1,0,0,1] 표시 할 수 있습니다.\n",
    "        * reciprocal_rank\n",
    "            * 1/2 (0.5) # 가장 빠른 순서의 하나만을 선택 합니다\n",
    "        * normalized_discounted_cumulative_gain_at_5\n",
    "            * (1/log(1+2) + 1/log(1+5)) / (1/log(1+1) + 1/log(1+2)) = 0.6241\n",
    "        * precision_at_5\n",
    "            * 2/5 (0.4)\n",
    "\n",
    "#### 2. 솔류션 버전의 성능 지표 분석\n",
    "\n",
    "레서피의 종류는 크게 세가지 입니다. 각각에 대해 확인을 해보겠습니다.\n",
    "#### 1. USER_PERSONALIZATION Recipes\n",
    "- 5가지 (popularity,user_personalization,hrnn,hrnn_meta,hrnn_coldstart) 있습니다.\n",
    "- popularity 는 베이스라인의 레서피로서 샤용을 주로 합니다. 모든 지표에서 가장 낮은 수치를 보입니다.\n",
    "- hrnn, hrnn-meta, user_personalization 이 전반적으로 가장 높은 성능을 보여 줍니다. user_personalization은 default로 exploration_weight=0.3 입니다. coldstart item 이 거의 없는 상태에서도 높은 성능을 보여 주고 있습니다.학습 데이터의 인터렉션 데이터에 콜드 스타트 아이템이 전형 없기에 성능은 감소합니다. 이 경우에는 exloration_weight = 0을 하게 되면 콜드 스타트의 아이템을 배제하고 추천 합니다.<br>\n",
    "이 링크 [exploration_weight](https://docs.aws.amazon.com/personalize/latest/dg/native-recipe-new-item-USER_PERSONALIZATION.html)에서 \"Item Exploration Configuration Hyperparameters\" 이 부분을 참고 하세요.<br>\n"
   ]
  },
  {
   "cell_type": "code",
   "execution_count": 6,
   "id": "6fcf1e38-d387-443f-943c-a9db1d140fa2",
   "metadata": {},
   "outputs": [
    {
     "data": {
      "text/html": [
       "<div>\n",
       "<style scoped>\n",
       "    .dataframe tbody tr th:only-of-type {\n",
       "        vertical-align: middle;\n",
       "    }\n",
       "\n",
       "    .dataframe tbody tr th {\n",
       "        vertical-align: top;\n",
       "    }\n",
       "\n",
       "    .dataframe thead th {\n",
       "        text-align: right;\n",
       "    }\n",
       "</style>\n",
       "<table border=\"1\" class=\"dataframe\">\n",
       "  <thead>\n",
       "    <tr style=\"text-align: right;\">\n",
       "      <th></th>\n",
       "      <th>recipe</th>\n",
       "      <th>coverage</th>\n",
       "      <th>mrr@25</th>\n",
       "      <th>ndcg@5</th>\n",
       "      <th>ndcg@10</th>\n",
       "      <th>ndcg@25</th>\n",
       "      <th>p@5</th>\n",
       "      <th>p@10</th>\n",
       "      <th>p@25</th>\n",
       "    </tr>\n",
       "  </thead>\n",
       "  <tbody>\n",
       "    <tr>\n",
       "      <th>0</th>\n",
       "      <td>user_personalization</td>\n",
       "      <td>0.8852</td>\n",
       "      <td>0.4206</td>\n",
       "      <td>0.3725</td>\n",
       "      <td>0.4368</td>\n",
       "      <td>0.4998</td>\n",
       "      <td>0.1913</td>\n",
       "      <td>0.1317</td>\n",
       "      <td>0.072</td>\n",
       "    </tr>\n",
       "  </tbody>\n",
       "</table>\n",
       "</div>"
      ],
      "text/plain": [
       "                 recipe  coverage  mrr@25  ndcg@5  ndcg@10  ndcg@25     p@5  \\\n",
       "0  user_personalization    0.8852  0.4206  0.3725   0.4368   0.4998  0.1913   \n",
       "\n",
       "     p@10   p@25  \n",
       "0  0.1317  0.072  "
      ]
     },
     "execution_count": 6,
     "metadata": {},
     "output_type": "execute_result"
    }
   ],
   "source": [
    "recipe_metrics=pd.DataFrame(metrics,columns=['recipe','coverage','mrr@25','ndcg@5','ndcg@10','ndcg@25','p@5','p@10','p@25'])\n",
    "\n",
    "recipe_metrics"
   ]
  },
  {
   "cell_type": "code",
   "execution_count": null,
   "id": "56262e69-c47a-40a0-bc86-1c177c59de06",
   "metadata": {},
   "outputs": [],
   "source": []
  }
 ],
 "metadata": {
  "kernelspec": {
   "display_name": "conda_python3",
   "language": "python",
   "name": "conda_python3"
  },
  "language_info": {
   "codemirror_mode": {
    "name": "ipython",
    "version": 3
   },
   "file_extension": ".py",
   "mimetype": "text/x-python",
   "name": "python",
   "nbconvert_exporter": "python",
   "pygments_lexer": "ipython3",
   "version": "3.10.6"
  }
 },
 "nbformat": 4,
 "nbformat_minor": 5
}
