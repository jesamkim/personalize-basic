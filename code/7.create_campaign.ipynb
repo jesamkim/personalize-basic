{
 "cells": [
  {
   "cell_type": "markdown",
   "id": "88389bab-5e71-40ce-be71-f37a28eba7d5",
   "metadata": {},
   "source": [
    "# [Module 7] Campaign 생성 \n",
    "\n",
    "이 노트북은 앞에서 생성한 데이타셋 그룹, 데이타셋을 바탕으로 아래와 같은 작업을 합니다."
   ]
  },
  {
   "cell_type": "markdown",
   "id": "ea6bfb3c-3706-42d1-a534-b66cfadd3118",
   "metadata": {},
   "source": [
    "## 0. 환경 설정"
   ]
  },
  {
   "cell_type": "code",
   "execution_count": 1,
   "id": "749a4870-9b26-4a25-8f22-5ad50561887a",
   "metadata": {},
   "outputs": [],
   "source": [
    "# Imports\n",
    "import boto3\n",
    "import json\n",
    "import numpy as np\n",
    "import pandas as pd\n",
    "import time"
   ]
  },
  {
   "cell_type": "code",
   "execution_count": 2,
   "id": "69a8e35c-789c-42b1-ac36-421f3ca66c38",
   "metadata": {},
   "outputs": [],
   "source": [
    "# Configure the SDK to Personalize:\n",
    "personalize = boto3.client('personalize')"
   ]
  },
  {
   "cell_type": "markdown",
   "id": "5dbe24ce-c5b1-42a2-9aec-db844cc4421f",
   "metadata": {},
   "source": [
    "아래 코드 셀은 이전 notebook에서 저장했던 공유 변수들을 불러옵니다."
   ]
  },
  {
   "cell_type": "code",
   "execution_count": 3,
   "id": "e30ef6b3-6ba3-41cc-b73a-51af84d4dd6f",
   "metadata": {},
   "outputs": [],
   "source": [
    "%store -r"
   ]
  },
  {
   "cell_type": "markdown",
   "id": "6363e7dc-d27d-4943-9382-8130070d8d49",
   "metadata": {},
   "source": [
    "## 1. 캠페인 생성 - Base 솔루션"
   ]
  },
  {
   "cell_type": "code",
   "execution_count": 4,
   "id": "0e923abe-727d-4d25-9ca3-ecd63a36a08c",
   "metadata": {},
   "outputs": [
    {
     "data": {
      "text/plain": [
       "'arn:aws:personalize:us-east-1:376278017302:solution/RetailDemo-user-personalization/02b4a057'"
      ]
     },
     "execution_count": 4,
     "metadata": {},
     "output_type": "execute_result"
    }
   ],
   "source": [
    "base_solution_version_arn"
   ]
  },
  {
   "cell_type": "code",
   "execution_count": 5,
   "id": "168e042a-1df4-4ce7-8daa-64673d3f582c",
   "metadata": {},
   "outputs": [
    {
     "data": {
      "text/plain": [
       "'arn:aws:personalize:us-east-1:376278017302:campaign/RetailDemo-campaign'"
      ]
     },
     "execution_count": 5,
     "metadata": {},
     "output_type": "execute_result"
    }
   ],
   "source": [
    "create_campaign_reponse = personalize.create_campaign(\n",
    "    name = 'RetailDemo-campaign',\n",
    "    solutionVersionArn = base_solution_version_arn,\n",
    "    minProvisionedTPS=1\n",
    ")\n",
    "\n",
    "base_campaign_arn = create_campaign_reponse['campaignArn']\n",
    "\n",
    "base_campaign_arn"
   ]
  },
  {
   "cell_type": "markdown",
   "id": "850ea6af-c4a4-403a-b5f9-ab2519cb1db6",
   "metadata": {},
   "source": [
    "## 2. 다음 노트북에 대한 참고 사항\n",
    "\n",
    "다음 실습에 필요한 몇 가지 값들이 있습니다. 아래 셀을 실행하여 저장한 후, 다음 주피터 노트북에서 그대로 사용할 수 있습니다."
   ]
  },
  {
   "cell_type": "code",
   "execution_count": 6,
   "id": "08147d8c-854b-4169-b17e-54661a4d9e2b",
   "metadata": {},
   "outputs": [
    {
     "name": "stdout",
     "output_type": "stream",
     "text": [
      "Stored 'base_campaign_arn' (str)\n"
     ]
    }
   ],
   "source": [
    "%store base_campaign_arn\n"
   ]
  },
  {
   "cell_type": "markdown",
   "id": "28fc6f62-7f5d-4eb1-b3bc-8274bdf7939c",
   "metadata": {},
   "source": [
    "## 3. 캠페인 생성 확인 하기"
   ]
  },
  {
   "cell_type": "code",
   "execution_count": 7,
   "id": "3214a591-dc72-4e27-8ab2-1dc8507f9e31",
   "metadata": {},
   "outputs": [
    {
     "name": "stdout",
     "output_type": "stream",
     "text": [
      "status_creating_campaign : CREATE PENDING\n",
      "-------------------------------------->\n",
      "status_creating_campaign : CREATE IN_PROGRESS\n",
      "-------------------------------------->\n",
      "status_creating_campaign : CREATE IN_PROGRESS\n",
      "-------------------------------------->\n",
      "status_creating_campaign : CREATE IN_PROGRESS\n",
      "-------------------------------------->\n",
      "status_creating_campaign : CREATE IN_PROGRESS\n",
      "-------------------------------------->\n",
      "status_creating_campaign : CREATE IN_PROGRESS\n",
      "-------------------------------------->\n",
      "status_creating_campaign : ACTIVE\n",
      "Creating Campaign is completed\n",
      "CPU times: user 77.8 ms, sys: 9.68 ms, total: 87.5 ms\n",
      "Wall time: 6min\n"
     ]
    }
   ],
   "source": [
    "%%time\n",
    "\n",
    "max_time = time.time() + 3*60*60 # 3 hours\n",
    "while time.time() < max_time:\n",
    "\n",
    "    # status_aws_user_personalization\n",
    "    describe_campaign_response = personalize.describe_campaign(\n",
    "        campaignArn = base_campaign_arn\n",
    "    )  \n",
    "    status_campaign = describe_campaign_response['campaign'][\"status\"]\n",
    "    print(\"status_creating_campaign : {}\".format(status_campaign))\n",
    "    \n",
    "        \n",
    "    if (status_campaign == \"ACTIVE\" or status_campaign == \"CREATE FAILED\") :\n",
    "        break\n",
    "    print(\"-------------------------------------->\")\n",
    "    time.sleep(60)\n",
    "\n",
    "print(\"Creating Campaign is completed\")"
   ]
  },
  {
   "cell_type": "code",
   "execution_count": null,
   "id": "c085c267-7798-4720-a56e-43d9fb4ebaf0",
   "metadata": {},
   "outputs": [],
   "source": []
  }
 ],
 "metadata": {
  "kernelspec": {
   "display_name": "conda_python3",
   "language": "python",
   "name": "conda_python3"
  },
  "language_info": {
   "codemirror_mode": {
    "name": "ipython",
    "version": 3
   },
   "file_extension": ".py",
   "mimetype": "text/x-python",
   "name": "python",
   "nbconvert_exporter": "python",
   "pygments_lexer": "ipython3",
   "version": "3.10.6"
  }
 },
 "nbformat": 4,
 "nbformat_minor": 5
}
