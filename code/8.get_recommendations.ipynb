{
 "cells": [
  {
   "cell_type": "markdown",
   "id": "e54154b0-2008-4616-ba22-a3d05acdfe12",
   "metadata": {},
   "source": [
    "# [Module 8] Recommendation API 호출 "
   ]
  },
  {
   "cell_type": "markdown",
   "id": "667e18a8-b8c3-4e7c-91c1-d19b8c5e0217",
   "metadata": {},
   "source": [
    "# 0. 환경 설정"
   ]
  },
  {
   "cell_type": "code",
   "execution_count": null,
   "id": "660f795a-77ed-4f0a-bd50-c4e14fb1240d",
   "metadata": {},
   "outputs": [],
   "source": [
    "%load_ext autoreload\n",
    "%autoreload 2"
   ]
  },
  {
   "cell_type": "code",
   "execution_count": null,
   "id": "6a8c55b6-0e28-415d-ad61-cec2301cb4e1",
   "metadata": {},
   "outputs": [],
   "source": [
    "import boto3\n",
    "import json\n",
    "import numpy as np\n",
    "import pandas as pd\n",
    "import time\n",
    "from datetime import datetime"
   ]
  },
  {
   "cell_type": "markdown",
   "id": "b1f92fe1-5e83-4fe2-9828-2a756b9ba5f6",
   "metadata": {},
   "source": [
    "다음으로 여러분의 환경이 Amazon Personalize와 성공적으로 통신할 수 있는지 확인해야 합니다."
   ]
  },
  {
   "cell_type": "code",
   "execution_count": null,
   "id": "62171373-e4d5-4258-bed3-2bbc010181ae",
   "metadata": {},
   "outputs": [],
   "source": [
    "# Configure the SDK to Personalize:\n",
    "personalize = boto3.client('personalize')\n",
    "personalize_runtime = boto3.client('personalize-runtime')"
   ]
  },
  {
   "cell_type": "markdown",
   "id": "7d70f50e-d2cd-440f-b2f8-a3a7318ab944",
   "metadata": {},
   "source": [
    "아래 코드 셀은 이전 notebook에서 저장했던 공유 변수들을 불러옵니다."
   ]
  },
  {
   "cell_type": "code",
   "execution_count": null,
   "id": "ac7c4419-9107-48f0-b9db-b44e5d948de3",
   "metadata": {},
   "outputs": [],
   "source": [
    "%store -r"
   ]
  },
  {
   "cell_type": "markdown",
   "id": "61619bdf-9ee7-4bf3-bb20-022c71db0004",
   "metadata": {},
   "source": [
    "# 1. 아이템 테이터 로딩\n",
    "\n",
    "- 추천 결과의 ITEM_ID 의 상세 내용을 확인하기 위해서 로딩 함."
   ]
  },
  {
   "cell_type": "code",
   "execution_count": null,
   "id": "3c62f16f-4659-49da-a6bb-90c5ca0f12c9",
   "metadata": {},
   "outputs": [],
   "source": [
    "from src.p_utils import get_item_list_details\n",
    "\n",
    "items_df = pd.read_csv(base_items_filename)\n",
    "\n",
    "items_df.head()"
   ]
  },
  {
   "cell_type": "markdown",
   "id": "43f81e50-af2e-4510-a25c-26f8322e4512",
   "metadata": {},
   "source": [
    "# 2. Recommendation API 호출\n",
    "\n",
    "- 두 명의 user_id (에: 1, 100) 에 대해서 추천 결과를 얻음."
   ]
  },
  {
   "cell_type": "markdown",
   "id": "3c1a52d7-27fd-43a2-8c8f-c0eca36100f6",
   "metadata": {},
   "source": [
    "### USER-PERSONALIZATION 솔루션 추천 : user_id = 1"
   ]
  },
  {
   "cell_type": "code",
   "execution_count": null,
   "id": "522d8322-5e14-4681-a07a-884e2dfb39e1",
   "metadata": {},
   "outputs": [],
   "source": [
    "user_id = 1\n",
    "\n",
    "get_recommendations_response = personalize_runtime.get_recommendations(\n",
    "    campaignArn = base_campaign_arn,\n",
    "    userId = str(user_id),\n",
    "    numResults = 10\n",
    ")\n",
    "\n",
    "\n",
    "items_list = []    \n",
    "for item in get_recommendations_response['itemList']:\n",
    "    items_list.append(item['itemId'])   \n",
    "    # print (item['itemId'])\n",
    "    \n",
    "print(\"-------------------\")    \n",
    "print(\"user_id: \", user_id)    \n",
    "print(\"-------------------\")    \n",
    "print(\"Solution Recommendation\")\n",
    "get_item_list_details(items_df, items_list)  # 유의: 기존의 추천 순서와 리턴의 값이 순서가 다름\n"
   ]
  },
  {
   "cell_type": "markdown",
   "id": "27a1ce2f-f42d-49b3-8d5e-b0c775c1e244",
   "metadata": {},
   "source": [
    "### USER-PERSONALIZATION 솔루션 추천 : user_id = 100"
   ]
  },
  {
   "cell_type": "code",
   "execution_count": null,
   "id": "c1aad6b4-dc9d-4088-8c02-84f644c9e8c9",
   "metadata": {},
   "outputs": [],
   "source": [
    "user_id = 100\n",
    "\n",
    "get_recommendations_response = personalize_runtime.get_recommendations(\n",
    "    campaignArn = base_campaign_arn,\n",
    "    userId = str(user_id),\n",
    "    numResults = 10\n",
    ")\n",
    "\n",
    "\n",
    "items_list = []    \n",
    "for item in get_recommendations_response['itemList']:\n",
    "    items_list.append(item['itemId'])   \n",
    "    # print (item['itemId'])\n",
    "    \n",
    "print(\"-------------------\")    \n",
    "print(\"user_id: \", user_id)    \n",
    "print(\"-------------------\")    \n",
    "print(\"Solution Recommendation\")\n",
    "get_item_list_details(items_df, items_list)  # 유의: 기존의 추천 순서와 리턴의 값이 순서가 다름\n"
   ]
  },
  {
   "cell_type": "code",
   "execution_count": null,
   "id": "61648a88-b40f-4626-8384-da66f38a6f2d",
   "metadata": {},
   "outputs": [],
   "source": []
  }
 ],
 "metadata": {
  "kernelspec": {
   "display_name": "conda_python3",
   "language": "python",
   "name": "conda_python3"
  },
  "language_info": {
   "codemirror_mode": {
    "name": "ipython",
    "version": 3
   },
   "file_extension": ".py",
   "mimetype": "text/x-python",
   "name": "python",
   "nbconvert_exporter": "python",
   "pygments_lexer": "ipython3",
   "version": "3.10.6"
  }
 },
 "nbformat": 4,
 "nbformat_minor": 5
}
