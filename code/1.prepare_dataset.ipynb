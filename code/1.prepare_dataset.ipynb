{
 "cells": [
  {
   "cell_type": "markdown",
   "id": "27cc3268-2230-48d3-b79f-6c9e51ca0b3a",
   "metadata": {},
   "source": [
    "# [Module 1] 데이터셋 준비\n",
    "\n",
    "이 워크샵은 기본 커널을 conda_python3를 사용합니다."
   ]
  },
  {
   "cell_type": "markdown",
   "id": "9c13c5b0-79c5-41da-adb6-7ae09801f2fd",
   "metadata": {},
   "source": [
    "## 0. 환경 셋업\n",
    "\n",
    "필요시 아래의 Pandas 프로파일링 설치 및 boto3 sdk 업그레이드를 실행 합니다.\n",
    "\n",
    "### Pandas 프로파일링 설치\n",
    "\n",
    "pandas-profiling 를 설치하기 전에 matplotlib 먼저 설치 합니다. 그렇지 않을 경우에 에러가 발생할 수 있습니다."
   ]
  },
  {
   "cell_type": "code",
   "execution_count": null,
   "id": "aa1d28af-0320-44c9-a477-6d58c7ab7191",
   "metadata": {},
   "outputs": [],
   "source": [
    "# !pip install matplotlib"
   ]
  },
  {
   "cell_type": "code",
   "execution_count": null,
   "id": "61cf6a6f-1dd6-4d0c-a97e-9faf79e30df5",
   "metadata": {},
   "outputs": [],
   "source": [
    "# !pip install pandas-profiling==2.11.0"
   ]
  },
  {
   "cell_type": "markdown",
   "id": "1c9244fa-ffd9-4f35-acdc-e42fef9e59f5",
   "metadata": {},
   "source": [
    "### boto3 업그레이드"
   ]
  },
  {
   "cell_type": "code",
   "execution_count": null,
   "id": "cf7d9b34-7f86-4704-b6cb-d94c48e070a1",
   "metadata": {},
   "outputs": [],
   "source": [
    "# !pip install boto3 --upgrade"
   ]
  },
  {
   "cell_type": "markdown",
   "id": "1924cfee-75b2-476d-9643-57e66658f97e",
   "metadata": {},
   "source": [
    "## 1. 데이터 설명\n",
    "\n",
    "아래의 Git에서 인공적으로 생성된 데이터 세트를 사용 함.\n",
    "- 생선데 데이터 세트를 tar 로 압축하여 현재의 git 에 저장 했습니다. 이를 압축해제 해서 사용합니다.\n",
    "\n",
    "* Retail Demo Store\n",
    "    * https://github.com/aws-samples/retail-demo-store"
   ]
  },
  {
   "cell_type": "code",
   "execution_count": null,
   "id": "c60d64e7-8e20-4f3b-8d0d-1bcee84f6ce8",
   "metadata": {},
   "outputs": [],
   "source": [
    "import tarfile\n",
    "\n",
    "tf = tarfile.open(\"../data/RetailDemoDataSet.tar\")\n",
    "tf.extractall(\"../data\")"
   ]
  },
  {
   "cell_type": "markdown",
   "id": "29301bf4-7676-4c7f-9c4a-eb370080e356",
   "metadata": {},
   "source": [
    "## 2. Items 데이터 탐색"
   ]
  },
  {
   "cell_type": "code",
   "execution_count": null,
   "id": "f51987fe-4bda-4ca4-9d8d-2f44370f7922",
   "metadata": {},
   "outputs": [],
   "source": [
    "import pandas as pd\n",
    "\n",
    "items = pd.read_csv('../data/items.csv')\n",
    "items.head(3)"
   ]
  },
  {
   "cell_type": "markdown",
   "id": "14a7ea4a-cd73-454c-916e-d49133151d08",
   "metadata": {},
   "source": [
    "## 3. Users 데이터 탐색"
   ]
  },
  {
   "cell_type": "code",
   "execution_count": null,
   "id": "5d93f83b-8e3b-4a02-bd17-8bc25c0d44b3",
   "metadata": {},
   "outputs": [],
   "source": [
    "import pandas as pd\n",
    "\n",
    "users = pd.read_csv('../data/users.csv')\n",
    "users.head(3)"
   ]
  },
  {
   "cell_type": "markdown",
   "id": "ee768791-ced2-4aa3-8a09-0d33862f436c",
   "metadata": {},
   "source": [
    "## 4. Interactions 데이터 탐색"
   ]
  },
  {
   "cell_type": "code",
   "execution_count": null,
   "id": "de7d3470-1e9c-42de-9a75-9df4c72ee478",
   "metadata": {},
   "outputs": [],
   "source": [
    "its = pd.read_csv('../data/interactions.csv')\n",
    "its"
   ]
  },
  {
   "cell_type": "markdown",
   "id": "bd6e7700-cc59-4702-b007-36a181a235ac",
   "metadata": {},
   "source": [
    "## 5. 변수 저장\n",
    "\n",
    "다음 노트북에서 활용할 변수를 저장 합니다."
   ]
  },
  {
   "cell_type": "code",
   "execution_count": null,
   "id": "1ab31863-dbfe-4d15-aed7-1b52ae17ab6e",
   "metadata": {},
   "outputs": [],
   "source": [
    "%store its\n",
    "%store users\n",
    "%store items"
   ]
  },
  {
   "cell_type": "code",
   "execution_count": null,
   "id": "91db6e1a-4a86-4681-8923-107e07514c84",
   "metadata": {},
   "outputs": [],
   "source": []
  }
 ],
 "metadata": {
  "kernelspec": {
   "display_name": "conda_python3",
   "language": "python",
   "name": "conda_python3"
  },
  "language_info": {
   "codemirror_mode": {
    "name": "ipython",
    "version": 3
   },
   "file_extension": ".py",
   "mimetype": "text/x-python",
   "name": "python",
   "nbconvert_exporter": "python",
   "pygments_lexer": "ipython3",
   "version": "3.10.6"
  }
 },
 "nbformat": 4,
 "nbformat_minor": 5
}
