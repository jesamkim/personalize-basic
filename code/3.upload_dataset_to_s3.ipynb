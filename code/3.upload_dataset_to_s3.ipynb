{
 "cells": [
  {
   "cell_type": "markdown",
   "id": "e49172a5-27bd-4aae-9dc8-0d9a881f7328",
   "metadata": {},
   "source": [
    "# [Module 4] Interactions, Items, Users 데이터셋을 S3에 업로드\n",
    "\n",
    "이 워크샵은 기본 커널을 conda_python3를 사용합니다."
   ]
  },
  {
   "cell_type": "markdown",
   "id": "0564d848-e7c3-4cdb-ab30-f16590f4f4e4",
   "metadata": {},
   "source": [
    "## 0. 환경 설정"
   ]
  },
  {
   "cell_type": "markdown",
   "id": "1477d03c-cd7b-403c-83ce-f7d83d63702d",
   "metadata": {},
   "source": [
    "#### Library Import \n",
    "\n",
    "파이썬에는 광범위한 라이브러리 모음이 포함되어 있으며, 본 LAB을 위해서 핵심 Data Scientist용 Tool 인 boto3 (AWS SDK) 및 Pandas/Numpy와 같은 라이브러리를 가져와야 합니다."
   ]
  },
  {
   "cell_type": "code",
   "execution_count": null,
   "id": "9f78b5f0-457d-4bd0-b045-352f247f7e1b",
   "metadata": {},
   "outputs": [],
   "source": [
    "import boto3\n",
    "import json\n",
    "import numpy as np\n",
    "import pandas as pd\n",
    "import time\n",
    "from datetime import datetime\n",
    "\n",
    "import matplotlib.pyplot as plt"
   ]
  },
  {
   "cell_type": "markdown",
   "id": "c4214366-f6da-496a-9f04-bb1335182ab8",
   "metadata": {},
   "source": [
    "변수 로딩"
   ]
  },
  {
   "cell_type": "code",
   "execution_count": null,
   "id": "7380d4b0-930d-41e2-ab2c-daf6c99a2d65",
   "metadata": {},
   "outputs": [],
   "source": [
    "%store -r"
   ]
  },
  {
   "cell_type": "markdown",
   "id": "ca54ea72-cf23-4964-9d03-e239e7e79e1f",
   "metadata": {},
   "source": [
    "## 1. 데이터셋 확인"
   ]
  },
  {
   "cell_type": "code",
   "execution_count": null,
   "id": "ad238705-ba0f-489a-9a13-77056a8586aa",
   "metadata": {},
   "outputs": [],
   "source": [
    "interactions_df.head(5)"
   ]
  },
  {
   "cell_type": "code",
   "execution_count": null,
   "id": "7c4f68fd-202f-43b0-a18d-af2dda38ed93",
   "metadata": {},
   "outputs": [],
   "source": [
    "items_df.head(5)"
   ]
  },
  {
   "cell_type": "code",
   "execution_count": null,
   "id": "a6b963e9-a045-4968-8943-15b665e3e67d",
   "metadata": {},
   "outputs": [],
   "source": [
    "users_df.head(5)"
   ]
  },
  {
   "cell_type": "markdown",
   "id": "a20f355c-4d3d-4a3b-bb95-4dafc3c0fbca",
   "metadata": {},
   "source": [
    "## 2. 데이터 분리\n",
    "\n",
    "이 데이터에는 UserID, ItemID, Event_Type 및 Timestamp 컬럼이 포함되어 있습니다.<br>\n",
    "\n",
    "- 시간순으로 정렬한 후에 90%는 학습용 데이터로, 마지막 최근 10% 데이터를 검증용 데이터로 분리합니다."
   ]
  },
  {
   "cell_type": "markdown",
   "id": "30aeb4af-bae3-4b35-8a00-4d0bc91dae9c",
   "metadata": {},
   "source": [
    "#### Data Set을 Train, Validation(holdout) 데이터 분리하기 \n",
    "\n",
    "모든 사용자의 마지막(Timestamp기준으로) 10%의 데이터를 Validation(Holdout) 데이터로 분리합니다."
   ]
  },
  {
   "cell_type": "code",
   "execution_count": null,
   "id": "d25a209f-9745-4147-8f71-bd3f925d3893",
   "metadata": {},
   "outputs": [],
   "source": [
    "pd.options.display.max_rows = 5\n",
    "def split_holdout(data, pct):\n",
    "    df = data.copy()\n",
    "    # Rank per each subgroup, 'USER_ID'\n",
    "    ranks = df.groupby('USER_ID').TIMESTAMP.rank(pct=True, method='first')\n",
    "    df = df.join((ranks> pct).to_frame('holdout'))\n",
    "    \n",
    "    holdout = df[df['holdout']].drop('holdout', axis=1)\n",
    "    train = df[~df['holdout']].drop('holdout', axis=1)    \n",
    "    \n",
    "    return train, holdout\n",
    "\n",
    "df_warm_train, df_warm_holdout = split_holdout(interactions_df, pct=0.9)"
   ]
  },
  {
   "cell_type": "markdown",
   "id": "40e65684-251e-434c-b87f-590e19ceafba",
   "metadata": {},
   "source": [
    "train 과 holdout의 분리된 데이타의 정보입니다. holdout은 대략 전체 대비 10%의 Row의 갯수 입니다. holdout의 timestamp는 train보다 미래의 숫자인 것을 인지할 수 있습니다. (숫자가 많은 것이 더 미래의 날짜를 의미함)"
   ]
  },
  {
   "cell_type": "code",
   "execution_count": null,
   "id": "4bcdf3ed-fbdd-46e9-b6b0-b506c53456ff",
   "metadata": {},
   "outputs": [],
   "source": [
    "df_warm_train.info()\n",
    "df_warm_train.nunique()"
   ]
  },
  {
   "cell_type": "code",
   "execution_count": null,
   "id": "34257a29-6616-4e9b-86f5-8efc552656a2",
   "metadata": {},
   "outputs": [],
   "source": [
    "df_warm_holdout.info()\n",
    "df_warm_holdout.nunique()"
   ]
  },
  {
   "cell_type": "code",
   "execution_count": null,
   "id": "4ceb5711-76bf-4f93-8c5a-833e8531bcb1",
   "metadata": {},
   "outputs": [],
   "source": [
    "df_warm_train.sort_values(['USER_ID','TIMESTAMP'])"
   ]
  },
  {
   "cell_type": "code",
   "execution_count": null,
   "id": "597d846f-87ee-4d1c-8787-c6d0a50baa7a",
   "metadata": {},
   "outputs": [],
   "source": [
    "df_warm_holdout.sort_values(['USER_ID','TIMESTAMP'])"
   ]
  },
  {
   "cell_type": "markdown",
   "id": "13825c3c-c0be-4c73-8a9a-e0323ffdcc7c",
   "metadata": {},
   "source": [
    "## 3. 로컬에 train, item, validation(holdout) 및 coldstart 를 CSV 저장\n",
    "\n",
    "완료되면 파일을 새 CSV로 저장한 다음, S3에 업로드합니다.<br>"
   ]
  },
  {
   "cell_type": "code",
   "execution_count": null,
   "id": "47007884-5318-420e-94a5-b1029bb85a7b",
   "metadata": {},
   "outputs": [],
   "source": [
    "import os\n",
    "os.makedirs('base-dataset', exist_ok=True)"
   ]
  },
  {
   "cell_type": "markdown",
   "id": "90877fb9-2298-4771-bdb9-863429f8ba97",
   "metadata": {},
   "source": [
    "train, item, validation(holdout) 데이터를 로컬에 csv 파일로 저장 합니다."
   ]
  },
  {
   "cell_type": "code",
   "execution_count": null,
   "id": "d8e34dbe-9bb7-4e5a-a797-0db5778e9848",
   "metadata": {},
   "outputs": [],
   "source": [
    "# train, item, validation 로컬 저장\n",
    "base_warm_train_interaction_filename=\"base-dataset/training_interaction.csv\"\n",
    "base_items_filename=\"base-dataset/training_item.csv\"\n",
    "base_users_filename=\"base-dataset/training_user.csv\"\n",
    "base_validation_interaction_filename=\"base-dataset/validation_interaction.csv\"\n",
    "\n",
    "df_warm_train.to_csv(base_warm_train_interaction_filename,index=False)\n",
    "items_df.to_csv(base_items_filename,index=False)\n",
    "users_df.to_csv(base_users_filename,index=False)\n",
    "df_warm_holdout.to_csv(base_validation_interaction_filename,index=False)    "
   ]
  },
  {
   "cell_type": "code",
   "execution_count": null,
   "id": "3e87854f-f1ee-46a0-a1dd-de053a7f817e",
   "metadata": {},
   "outputs": [],
   "source": [
    "# warm data set 로컬 저장\n",
    "base_warm_interation_filename=\"base-dataset/warm_interaction.csv\"\n",
    "interactions_df.to_csv(base_warm_interation_filename,index=False)\n"
   ]
  },
  {
   "cell_type": "markdown",
   "id": "b085bdc1-695a-4b5b-b13f-4685ac4adebe",
   "metadata": {},
   "source": [
    "## 4. S3에 로컬 CSV 업로드"
   ]
  },
  {
   "cell_type": "code",
   "execution_count": null,
   "id": "e2721696-5b3f-4f66-8206-0279188b792b",
   "metadata": {},
   "outputs": [],
   "source": [
    "import sagemaker\n",
    "#bucket='<YOUR BUCKET NAME>' # replace with the name of your S3 bucket\n",
    "bucket = sagemaker.Session().default_bucket() "
   ]
  },
  {
   "cell_type": "code",
   "execution_count": null,
   "id": "c9e6eb7c-8303-44b5-83b1-a559dccd378c",
   "metadata": {},
   "outputs": [],
   "source": [
    "#upload file for training\n",
    "response_upload = boto3.Session().resource('s3').Bucket(bucket).Object(base_warm_train_interaction_filename).upload_file(base_warm_train_interaction_filename)\n",
    "boto3.Session().resource('s3').Bucket(bucket).Object(base_users_filename).upload_file(base_users_filename)\n",
    "boto3.Session().resource('s3').Bucket(bucket).Object(base_items_filename).upload_file(base_items_filename)\n",
    "\n",
    "s3_base_warm_train_interaction_filename = \"s3://{}/{}\".format(bucket, base_warm_train_interaction_filename)\n",
    "s3_base_items_filename = \"s3://{}/{}\".format(bucket, base_items_filename)\n",
    "s3_base_users_filename = \"s3://{}/{}\".format(bucket, base_users_filename)\n",
    "\n",
    "print(\"s3_base_warm_train_interaction_filename: \\n\", s3_base_warm_train_interaction_filename)\n",
    "print(\"s3_base_items_filename: \\n\", s3_base_items_filename)\n",
    "print(\"s3_base_users_filename: \\n\", s3_base_users_filename)"
   ]
  },
  {
   "cell_type": "code",
   "execution_count": null,
   "id": "06c01fcc-0c05-48f8-9254-247dbb2bd749",
   "metadata": {},
   "outputs": [],
   "source": [
    "! aws s3 ls {s3_base_warm_train_interaction_filename} --recursive\n",
    "! aws s3 ls {s3_base_items_filename} --recursive\n",
    "! aws s3 ls {s3_base_users_filename} --recursive"
   ]
  },
  {
   "cell_type": "markdown",
   "id": "ff28e287-f587-46c7-91bd-65c5c05db9d8",
   "metadata": {},
   "source": [
    "## 5. 변수 저장\n",
    "\n",
    "다음 노트북에서 활용할 변수를 저장 합니다."
   ]
  },
  {
   "cell_type": "code",
   "execution_count": null,
   "id": "e871873e-69d8-46f2-9874-1946111e252e",
   "metadata": {},
   "outputs": [],
   "source": [
    "%store bucket\n",
    "\n",
    "%store s3_base_warm_train_interaction_filename\n",
    "%store s3_base_users_filename\n",
    "%store s3_base_items_filename\n",
    "%store base_warm_train_interaction_filename\n",
    "%store base_items_filename\n",
    "%store base_users_filename\n",
    "%store base_validation_interaction_filename\n",
    "%store base_warm_interation_filename\n"
   ]
  },
  {
   "cell_type": "code",
   "execution_count": null,
   "id": "2432be96-b958-48d6-9f77-e4d27ce740d1",
   "metadata": {},
   "outputs": [],
   "source": []
  }
 ],
 "metadata": {
  "kernelspec": {
   "display_name": "conda_python3",
   "language": "python",
   "name": "conda_python3"
  },
  "language_info": {
   "codemirror_mode": {
    "name": "ipython",
    "version": 3
   },
   "file_extension": ".py",
   "mimetype": "text/x-python",
   "name": "python",
   "nbconvert_exporter": "python",
   "pygments_lexer": "ipython3",
   "version": "3.10.6"
  }
 },
 "nbformat": 4,
 "nbformat_minor": 5
}
