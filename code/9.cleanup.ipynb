{
 "cells": [
  {
   "cell_type": "markdown",
   "id": "df50504b-9d55-47f9-bdd0-9a14338d9ed7",
   "metadata": {},
   "source": [
    "# [Module 9] 리소스 삭제\n",
    "\n",
    "모델을 구축한 후 캠페인(campaign), 솔루션(solution) 및 데이터셋(dataset)을 삭제할 수 있습니다. 다음 셀은 이 핸즈온에서 생성한 모든 리소스를 삭제합니다.\n",
    "\n",
    "## 라이브러리 임포트 및 AWS 연결 \n",
    "\n",
    "아래 코드 셀은 필요한 모든 라이브러리를 가져온 다음 Amazon Personalize에 연결합니다."
   ]
  },
  {
   "cell_type": "code",
   "execution_count": null,
   "id": "973d7e56-8f9a-400d-bd0b-d743ca2234a5",
   "metadata": {},
   "outputs": [],
   "source": [
    "# Imports\n",
    "import boto3\n",
    "import json\n",
    "import numpy as np\n",
    "import pandas as pd\n",
    "import time"
   ]
  },
  {
   "cell_type": "code",
   "execution_count": null,
   "id": "df7c6235-f01b-4543-84a9-e95974c7ed48",
   "metadata": {},
   "outputs": [],
   "source": [
    "# Configure the SDK to Personalize:\n",
    "personalize = boto3.client('personalize')\n",
    "personalize_runtime = boto3.client('personalize-runtime')"
   ]
  },
  {
   "cell_type": "code",
   "execution_count": null,
   "id": "33f0273a-0396-4967-9714-58d5c487b940",
   "metadata": {},
   "outputs": [],
   "source": [
    "%store -r"
   ]
  },
  {
   "cell_type": "markdown",
   "id": "7a147353-1ae8-4252-905e-1dc3ec127f4e",
   "metadata": {},
   "source": [
    "# 1. 리소스 삭제 함수 정의"
   ]
  },
  {
   "cell_type": "code",
   "execution_count": null,
   "id": "770dfe55-b521-4125-bd81-0dc423ac9121",
   "metadata": {},
   "outputs": [],
   "source": [
    "def wait_for_resource_deletion(arn, resource_type):\n",
    "    max_time = 600  # 10분 타임아웃\n",
    "    wait_time = 0\n",
    "    \n",
    "    while wait_time < max_time:\n",
    "        try:\n",
    "            if resource_type == 'campaign':\n",
    "                response = personalize.describe_campaign(campaignArn=arn)\n",
    "            elif resource_type == 'solution':\n",
    "                response = personalize.describe_solution(solutionArn=arn)\n",
    "            elif resource_type == 'dataset':\n",
    "                response = personalize.describe_dataset(datasetArn=arn)\n",
    "            elif resource_type == 'schema':\n",
    "                response = personalize.describe_schema(schemaArn=arn)\n",
    "            elif resource_type == 'dataset-group':\n",
    "                response = personalize.describe_dataset_group(datasetGroupArn=arn)\n",
    "                \n",
    "            print(f\"Waiting for {resource_type} deletion... Status: {response['status']}\")\n",
    "            time.sleep(10)\n",
    "            wait_time += 10\n",
    "            \n",
    "        except personalize.exceptions.ResourceNotFoundException:\n",
    "            print(f\"{resource_type} deleted successfully\")\n",
    "            return True\n",
    "            \n",
    "    raise Exception(f\"Timeout waiting for {resource_type} deletion\")\n",
    "\n",
    "def cleanup_personalize_resources(base_campaign_arn, base_solution_arn, \n",
    "                                base_interaction_dataset_arn, base_item_dataset_arn, base_user_dataset_arn,\n",
    "                                interaction_schema_arn, base_item_schema_arn, user_schema_arn,\n",
    "                                base_dataset_group_arn):\n",
    "    try:\n",
    "        # 1. Campaign 삭제\n",
    "        print(\"Deleting campaign...\")\n",
    "        personalize.delete_campaign(campaignArn=base_campaign_arn)\n",
    "        wait_for_resource_deletion(base_campaign_arn, 'campaign')\n",
    "\n",
    "        # 2. Solution 삭제\n",
    "        print(\"Deleting solution...\")\n",
    "        personalize.delete_solution(solutionArn=base_solution_arn)\n",
    "        wait_for_resource_deletion(base_solution_arn, 'solution')\n",
    "\n",
    "        # 3. Datasets 삭제\n",
    "        print(\"Deleting datasets...\")\n",
    "        dataset_arns = [base_interaction_dataset_arn, base_item_dataset_arn, base_user_dataset_arn]\n",
    "        for dataset_arn in dataset_arns:\n",
    "            personalize.delete_dataset(datasetArn=dataset_arn)\n",
    "            wait_for_resource_deletion(dataset_arn, 'dataset')\n",
    "\n",
    "        # 4. Schemas 삭제\n",
    "        print(\"Deleting schemas...\")\n",
    "        schema_arns = [interaction_schema_arn, base_item_schema_arn, user_schema_arn]\n",
    "        for schema_arn in schema_arns:\n",
    "            personalize.delete_schema(schemaArn=schema_arn)\n",
    "            wait_for_resource_deletion(schema_arn, 'schema')\n",
    "\n",
    "        # 5. Dataset Group 삭제\n",
    "        print(\"Deleting dataset group...\")\n",
    "        personalize.delete_dataset_group(datasetGroupArn=base_dataset_group_arn)\n",
    "        wait_for_resource_deletion(base_dataset_group_arn, 'dataset-group')\n",
    "\n",
    "        print(\"All resources cleaned up successfully!\")\n",
    "\n",
    "    except Exception as e:\n",
    "        print(f\"Error during cleanup: {str(e)}\")\n",
    "        raise"
   ]
  },
  {
   "cell_type": "markdown",
   "id": "08d9d7b4-48bd-433f-9433-556cd1f0f01f",
   "metadata": {},
   "source": [
    "# 2. 리소스 삭제"
   ]
  },
  {
   "cell_type": "code",
   "execution_count": null,
   "id": "1b5abf9a-f744-42db-b00a-b42a93ea6d32",
   "metadata": {},
   "outputs": [],
   "source": [
    "cleanup_personalize_resources(\n",
    "    base_campaign_arn,\n",
    "    base_solution_arn,\n",
    "    base_interaction_dataset_arn,\n",
    "    base_item_dataset_arn,\n",
    "    base_user_dataset_arn,\n",
    "    interaction_schema_arn,\n",
    "    base_item_schema_arn,\n",
    "    user_schema_arn,\n",
    "    base_dataset_group_arn\n",
    ")"
   ]
  },
  {
   "cell_type": "markdown",
   "id": "f4191ce8-9e49-4504-8820-fc8a1ed17266",
   "metadata": {},
   "source": [
    "# 3. S3 파일(csv) 삭제"
   ]
  },
  {
   "cell_type": "code",
   "execution_count": null,
   "id": "859a0bd3-e3ed-4736-bc99-d88e9692126b",
   "metadata": {},
   "outputs": [],
   "source": [
    "s3_path = \"s3://{}/{}/\".format(bucket, 'base-dataset')\n",
    "\n",
    "! aws s3 rm {s3_path} --recursive"
   ]
  },
  {
   "cell_type": "markdown",
   "id": "267b724c-caad-480b-9a7c-e85436cd35c9",
   "metadata": {
    "tags": []
   },
   "source": [
    "### 디스크 저장 변수 삭제\n",
    "\n",
    "디스크에 저장된 변수들을 모두 지웁니다."
   ]
  },
  {
   "cell_type": "code",
   "execution_count": null,
   "id": "c09d2261-2a45-498b-88ac-faeed40f274b",
   "metadata": {},
   "outputs": [],
   "source": [
    "%store -z"
   ]
  },
  {
   "cell_type": "code",
   "execution_count": null,
   "id": "21678f54-1178-44b4-83d5-3af7b6eff7d9",
   "metadata": {},
   "outputs": [],
   "source": []
  }
 ],
 "metadata": {
  "kernelspec": {
   "display_name": "conda_python3",
   "language": "python",
   "name": "conda_python3"
  },
  "language_info": {
   "codemirror_mode": {
    "name": "ipython",
    "version": 3
   },
   "file_extension": ".py",
   "mimetype": "text/x-python",
   "name": "python",
   "nbconvert_exporter": "python",
   "pygments_lexer": "ipython3",
   "version": "3.10.15"
  }
 },
 "nbformat": 4,
 "nbformat_minor": 5
}
